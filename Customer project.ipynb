{
 "cells": [
  {
   "cell_type": "markdown",
   "id": "75307076",
   "metadata": {},
   "source": [
    "# Python code to read and visualize the customer data using librarires."
   ]
  },
  {
   "cell_type": "code",
   "execution_count": 134,
   "id": "5011fe28",
   "metadata": {},
   "outputs": [
    {
     "data": {
      "text/html": [
       "<div>\n",
       "<style scoped>\n",
       "    .dataframe tbody tr th:only-of-type {\n",
       "        vertical-align: middle;\n",
       "    }\n",
       "\n",
       "    .dataframe tbody tr th {\n",
       "        vertical-align: top;\n",
       "    }\n",
       "\n",
       "    .dataframe thead th {\n",
       "        text-align: right;\n",
       "    }\n",
       "</style>\n",
       "<table border=\"1\" class=\"dataframe\">\n",
       "  <thead>\n",
       "    <tr style=\"text-align: right;\">\n",
       "      <th></th>\n",
       "      <th>CustomerID</th>\n",
       "      <th>Gender</th>\n",
       "      <th>Age</th>\n",
       "      <th>Annual Income ($)</th>\n",
       "      <th>Spending Score (1-100)</th>\n",
       "      <th>Profession</th>\n",
       "      <th>Work Experience</th>\n",
       "      <th>Family Size</th>\n",
       "    </tr>\n",
       "  </thead>\n",
       "  <tbody>\n",
       "    <tr>\n",
       "      <th>0</th>\n",
       "      <td>1</td>\n",
       "      <td>Male</td>\n",
       "      <td>19</td>\n",
       "      <td>15000</td>\n",
       "      <td>39</td>\n",
       "      <td>Healthcare</td>\n",
       "      <td>1</td>\n",
       "      <td>4</td>\n",
       "    </tr>\n",
       "    <tr>\n",
       "      <th>1</th>\n",
       "      <td>2</td>\n",
       "      <td>Male</td>\n",
       "      <td>21</td>\n",
       "      <td>35000</td>\n",
       "      <td>81</td>\n",
       "      <td>Engineer</td>\n",
       "      <td>3</td>\n",
       "      <td>3</td>\n",
       "    </tr>\n",
       "    <tr>\n",
       "      <th>2</th>\n",
       "      <td>3</td>\n",
       "      <td>Female</td>\n",
       "      <td>20</td>\n",
       "      <td>86000</td>\n",
       "      <td>6</td>\n",
       "      <td>Engineer</td>\n",
       "      <td>1</td>\n",
       "      <td>1</td>\n",
       "    </tr>\n",
       "    <tr>\n",
       "      <th>3</th>\n",
       "      <td>4</td>\n",
       "      <td>Female</td>\n",
       "      <td>23</td>\n",
       "      <td>59000</td>\n",
       "      <td>77</td>\n",
       "      <td>Lawyer</td>\n",
       "      <td>0</td>\n",
       "      <td>2</td>\n",
       "    </tr>\n",
       "    <tr>\n",
       "      <th>4</th>\n",
       "      <td>5</td>\n",
       "      <td>Female</td>\n",
       "      <td>31</td>\n",
       "      <td>38000</td>\n",
       "      <td>40</td>\n",
       "      <td>Entertainment</td>\n",
       "      <td>2</td>\n",
       "      <td>6</td>\n",
       "    </tr>\n",
       "    <tr>\n",
       "      <th>...</th>\n",
       "      <td>...</td>\n",
       "      <td>...</td>\n",
       "      <td>...</td>\n",
       "      <td>...</td>\n",
       "      <td>...</td>\n",
       "      <td>...</td>\n",
       "      <td>...</td>\n",
       "      <td>...</td>\n",
       "    </tr>\n",
       "    <tr>\n",
       "      <th>1995</th>\n",
       "      <td>1996</td>\n",
       "      <td>Female</td>\n",
       "      <td>71</td>\n",
       "      <td>184387</td>\n",
       "      <td>40</td>\n",
       "      <td>Artist</td>\n",
       "      <td>8</td>\n",
       "      <td>7</td>\n",
       "    </tr>\n",
       "    <tr>\n",
       "      <th>1996</th>\n",
       "      <td>1997</td>\n",
       "      <td>Female</td>\n",
       "      <td>91</td>\n",
       "      <td>73158</td>\n",
       "      <td>32</td>\n",
       "      <td>Doctor</td>\n",
       "      <td>7</td>\n",
       "      <td>7</td>\n",
       "    </tr>\n",
       "    <tr>\n",
       "      <th>1997</th>\n",
       "      <td>1998</td>\n",
       "      <td>Male</td>\n",
       "      <td>87</td>\n",
       "      <td>90961</td>\n",
       "      <td>14</td>\n",
       "      <td>Healthcare</td>\n",
       "      <td>9</td>\n",
       "      <td>2</td>\n",
       "    </tr>\n",
       "    <tr>\n",
       "      <th>1998</th>\n",
       "      <td>1999</td>\n",
       "      <td>Male</td>\n",
       "      <td>77</td>\n",
       "      <td>182109</td>\n",
       "      <td>4</td>\n",
       "      <td>Executive</td>\n",
       "      <td>7</td>\n",
       "      <td>2</td>\n",
       "    </tr>\n",
       "    <tr>\n",
       "      <th>1999</th>\n",
       "      <td>2000</td>\n",
       "      <td>Male</td>\n",
       "      <td>90</td>\n",
       "      <td>110610</td>\n",
       "      <td>52</td>\n",
       "      <td>Entertainment</td>\n",
       "      <td>5</td>\n",
       "      <td>2</td>\n",
       "    </tr>\n",
       "  </tbody>\n",
       "</table>\n",
       "<p>2000 rows × 8 columns</p>\n",
       "</div>"
      ],
      "text/plain": [
       "      CustomerID  Gender  Age  Annual Income ($)  Spending Score (1-100)  \\\n",
       "0              1    Male   19              15000                      39   \n",
       "1              2    Male   21              35000                      81   \n",
       "2              3  Female   20              86000                       6   \n",
       "3              4  Female   23              59000                      77   \n",
       "4              5  Female   31              38000                      40   \n",
       "...          ...     ...  ...                ...                     ...   \n",
       "1995        1996  Female   71             184387                      40   \n",
       "1996        1997  Female   91              73158                      32   \n",
       "1997        1998    Male   87              90961                      14   \n",
       "1998        1999    Male   77             182109                       4   \n",
       "1999        2000    Male   90             110610                      52   \n",
       "\n",
       "         Profession  Work Experience  Family Size  \n",
       "0        Healthcare                1            4  \n",
       "1          Engineer                3            3  \n",
       "2          Engineer                1            1  \n",
       "3            Lawyer                0            2  \n",
       "4     Entertainment                2            6  \n",
       "...             ...              ...          ...  \n",
       "1995         Artist                8            7  \n",
       "1996         Doctor                7            7  \n",
       "1997     Healthcare                9            2  \n",
       "1998      Executive                7            2  \n",
       "1999  Entertainment                5            2  \n",
       "\n",
       "[2000 rows x 8 columns]"
      ]
     },
     "execution_count": 134,
     "metadata": {},
     "output_type": "execute_result"
    }
   ],
   "source": [
    "import numpy as np\n",
    "import pandas as pd\n",
    "import matplotlib.pyplot as plt\n",
    "import plotly.express as px\n",
    "import seaborn as sns\n",
    "df = pd.read_csv('Customers.csv')\n",
    "df"
   ]
  },
  {
   "cell_type": "code",
   "execution_count": 135,
   "id": "afc81414",
   "metadata": {},
   "outputs": [
    {
     "data": {
      "text/plain": [
       "CustomerID                 0\n",
       "Gender                     0\n",
       "Age                        0\n",
       "Annual Income ($)          0\n",
       "Spending Score (1-100)     0\n",
       "Profession                35\n",
       "Work Experience            0\n",
       "Family Size                0\n",
       "dtype: int64"
      ]
     },
     "execution_count": 135,
     "metadata": {},
     "output_type": "execute_result"
    }
   ],
   "source": [
    "# After reading the customer.csv file into df, now looking for data which is missing in few columns\n",
    "df.isna().sum()"
   ]
  },
  {
   "cell_type": "markdown",
   "id": "92c80639",
   "metadata": {},
   "source": [
    "# Found 35 records in profession are having null values as shown below"
   ]
  },
  {
   "cell_type": "code",
   "execution_count": 136,
   "id": "73112207",
   "metadata": {},
   "outputs": [
    {
     "data": {
      "text/html": [
       "<div>\n",
       "<style scoped>\n",
       "    .dataframe tbody tr th:only-of-type {\n",
       "        vertical-align: middle;\n",
       "    }\n",
       "\n",
       "    .dataframe tbody tr th {\n",
       "        vertical-align: top;\n",
       "    }\n",
       "\n",
       "    .dataframe thead th {\n",
       "        text-align: right;\n",
       "    }\n",
       "</style>\n",
       "<table border=\"1\" class=\"dataframe\">\n",
       "  <thead>\n",
       "    <tr style=\"text-align: right;\">\n",
       "      <th></th>\n",
       "      <th>CustomerID</th>\n",
       "      <th>Gender</th>\n",
       "      <th>Age</th>\n",
       "      <th>Annual Income ($)</th>\n",
       "      <th>Spending Score (1-100)</th>\n",
       "      <th>Profession</th>\n",
       "      <th>Work Experience</th>\n",
       "      <th>Family Size</th>\n",
       "    </tr>\n",
       "  </thead>\n",
       "  <tbody>\n",
       "    <tr>\n",
       "      <th>79</th>\n",
       "      <td>80</td>\n",
       "      <td>Female</td>\n",
       "      <td>49</td>\n",
       "      <td>98000</td>\n",
       "      <td>42</td>\n",
       "      <td>NaN</td>\n",
       "      <td>1</td>\n",
       "      <td>1</td>\n",
       "    </tr>\n",
       "    <tr>\n",
       "      <th>118</th>\n",
       "      <td>119</td>\n",
       "      <td>Female</td>\n",
       "      <td>51</td>\n",
       "      <td>84000</td>\n",
       "      <td>43</td>\n",
       "      <td>NaN</td>\n",
       "      <td>2</td>\n",
       "      <td>7</td>\n",
       "    </tr>\n",
       "    <tr>\n",
       "      <th>219</th>\n",
       "      <td>220</td>\n",
       "      <td>Female</td>\n",
       "      <td>59</td>\n",
       "      <td>76000</td>\n",
       "      <td>61</td>\n",
       "      <td>NaN</td>\n",
       "      <td>9</td>\n",
       "      <td>1</td>\n",
       "    </tr>\n",
       "    <tr>\n",
       "      <th>237</th>\n",
       "      <td>238</td>\n",
       "      <td>Male</td>\n",
       "      <td>95</td>\n",
       "      <td>36000</td>\n",
       "      <td>35</td>\n",
       "      <td>NaN</td>\n",
       "      <td>0</td>\n",
       "      <td>4</td>\n",
       "    </tr>\n",
       "    <tr>\n",
       "      <th>437</th>\n",
       "      <td>438</td>\n",
       "      <td>Male</td>\n",
       "      <td>76</td>\n",
       "      <td>136259</td>\n",
       "      <td>14</td>\n",
       "      <td>NaN</td>\n",
       "      <td>0</td>\n",
       "      <td>7</td>\n",
       "    </tr>\n",
       "    <tr>\n",
       "      <th>440</th>\n",
       "      <td>441</td>\n",
       "      <td>Female</td>\n",
       "      <td>0</td>\n",
       "      <td>57373</td>\n",
       "      <td>29</td>\n",
       "      <td>NaN</td>\n",
       "      <td>0</td>\n",
       "      <td>7</td>\n",
       "    </tr>\n",
       "    <tr>\n",
       "      <th>498</th>\n",
       "      <td>499</td>\n",
       "      <td>Male</td>\n",
       "      <td>95</td>\n",
       "      <td>121725</td>\n",
       "      <td>3</td>\n",
       "      <td>NaN</td>\n",
       "      <td>12</td>\n",
       "      <td>3</td>\n",
       "    </tr>\n",
       "    <tr>\n",
       "      <th>545</th>\n",
       "      <td>546</td>\n",
       "      <td>Female</td>\n",
       "      <td>89</td>\n",
       "      <td>107359</td>\n",
       "      <td>26</td>\n",
       "      <td>NaN</td>\n",
       "      <td>10</td>\n",
       "      <td>6</td>\n",
       "    </tr>\n",
       "    <tr>\n",
       "      <th>601</th>\n",
       "      <td>602</td>\n",
       "      <td>Male</td>\n",
       "      <td>61</td>\n",
       "      <td>126370</td>\n",
       "      <td>20</td>\n",
       "      <td>NaN</td>\n",
       "      <td>11</td>\n",
       "      <td>4</td>\n",
       "    </tr>\n",
       "    <tr>\n",
       "      <th>641</th>\n",
       "      <td>642</td>\n",
       "      <td>Male</td>\n",
       "      <td>66</td>\n",
       "      <td>121377</td>\n",
       "      <td>19</td>\n",
       "      <td>NaN</td>\n",
       "      <td>7</td>\n",
       "      <td>7</td>\n",
       "    </tr>\n",
       "    <tr>\n",
       "      <th>665</th>\n",
       "      <td>666</td>\n",
       "      <td>Male</td>\n",
       "      <td>28</td>\n",
       "      <td>101414</td>\n",
       "      <td>64</td>\n",
       "      <td>NaN</td>\n",
       "      <td>8</td>\n",
       "      <td>1</td>\n",
       "    </tr>\n",
       "    <tr>\n",
       "      <th>703</th>\n",
       "      <td>704</td>\n",
       "      <td>Male</td>\n",
       "      <td>22</td>\n",
       "      <td>114011</td>\n",
       "      <td>40</td>\n",
       "      <td>NaN</td>\n",
       "      <td>5</td>\n",
       "      <td>7</td>\n",
       "    </tr>\n",
       "    <tr>\n",
       "      <th>801</th>\n",
       "      <td>802</td>\n",
       "      <td>Male</td>\n",
       "      <td>81</td>\n",
       "      <td>148208</td>\n",
       "      <td>36</td>\n",
       "      <td>NaN</td>\n",
       "      <td>5</td>\n",
       "      <td>7</td>\n",
       "    </tr>\n",
       "    <tr>\n",
       "      <th>817</th>\n",
       "      <td>818</td>\n",
       "      <td>Female</td>\n",
       "      <td>91</td>\n",
       "      <td>154456</td>\n",
       "      <td>71</td>\n",
       "      <td>NaN</td>\n",
       "      <td>0</td>\n",
       "      <td>7</td>\n",
       "    </tr>\n",
       "    <tr>\n",
       "      <th>850</th>\n",
       "      <td>851</td>\n",
       "      <td>Male</td>\n",
       "      <td>69</td>\n",
       "      <td>186655</td>\n",
       "      <td>32</td>\n",
       "      <td>NaN</td>\n",
       "      <td>7</td>\n",
       "      <td>2</td>\n",
       "    </tr>\n",
       "    <tr>\n",
       "      <th>903</th>\n",
       "      <td>904</td>\n",
       "      <td>Female</td>\n",
       "      <td>15</td>\n",
       "      <td>174501</td>\n",
       "      <td>37</td>\n",
       "      <td>NaN</td>\n",
       "      <td>9</td>\n",
       "      <td>7</td>\n",
       "    </tr>\n",
       "    <tr>\n",
       "      <th>927</th>\n",
       "      <td>928</td>\n",
       "      <td>Male</td>\n",
       "      <td>25</td>\n",
       "      <td>81367</td>\n",
       "      <td>87</td>\n",
       "      <td>NaN</td>\n",
       "      <td>0</td>\n",
       "      <td>3</td>\n",
       "    </tr>\n",
       "    <tr>\n",
       "      <th>1009</th>\n",
       "      <td>1010</td>\n",
       "      <td>Male</td>\n",
       "      <td>69</td>\n",
       "      <td>61637</td>\n",
       "      <td>67</td>\n",
       "      <td>NaN</td>\n",
       "      <td>0</td>\n",
       "      <td>5</td>\n",
       "    </tr>\n",
       "    <tr>\n",
       "      <th>1067</th>\n",
       "      <td>1068</td>\n",
       "      <td>Female</td>\n",
       "      <td>30</td>\n",
       "      <td>78821</td>\n",
       "      <td>46</td>\n",
       "      <td>NaN</td>\n",
       "      <td>1</td>\n",
       "      <td>4</td>\n",
       "    </tr>\n",
       "    <tr>\n",
       "      <th>1088</th>\n",
       "      <td>1089</td>\n",
       "      <td>Female</td>\n",
       "      <td>10</td>\n",
       "      <td>162076</td>\n",
       "      <td>78</td>\n",
       "      <td>NaN</td>\n",
       "      <td>0</td>\n",
       "      <td>3</td>\n",
       "    </tr>\n",
       "    <tr>\n",
       "      <th>1092</th>\n",
       "      <td>1093</td>\n",
       "      <td>Male</td>\n",
       "      <td>87</td>\n",
       "      <td>141383</td>\n",
       "      <td>3</td>\n",
       "      <td>NaN</td>\n",
       "      <td>7</td>\n",
       "      <td>5</td>\n",
       "    </tr>\n",
       "    <tr>\n",
       "      <th>1188</th>\n",
       "      <td>1189</td>\n",
       "      <td>Female</td>\n",
       "      <td>99</td>\n",
       "      <td>122548</td>\n",
       "      <td>14</td>\n",
       "      <td>NaN</td>\n",
       "      <td>2</td>\n",
       "      <td>5</td>\n",
       "    </tr>\n",
       "    <tr>\n",
       "      <th>1223</th>\n",
       "      <td>1224</td>\n",
       "      <td>Male</td>\n",
       "      <td>74</td>\n",
       "      <td>184838</td>\n",
       "      <td>18</td>\n",
       "      <td>NaN</td>\n",
       "      <td>8</td>\n",
       "      <td>5</td>\n",
       "    </tr>\n",
       "    <tr>\n",
       "      <th>1316</th>\n",
       "      <td>1317</td>\n",
       "      <td>Female</td>\n",
       "      <td>33</td>\n",
       "      <td>109396</td>\n",
       "      <td>17</td>\n",
       "      <td>NaN</td>\n",
       "      <td>1</td>\n",
       "      <td>2</td>\n",
       "    </tr>\n",
       "    <tr>\n",
       "      <th>1334</th>\n",
       "      <td>1335</td>\n",
       "      <td>Male</td>\n",
       "      <td>42</td>\n",
       "      <td>94844</td>\n",
       "      <td>64</td>\n",
       "      <td>NaN</td>\n",
       "      <td>7</td>\n",
       "      <td>6</td>\n",
       "    </tr>\n",
       "    <tr>\n",
       "      <th>1384</th>\n",
       "      <td>1385</td>\n",
       "      <td>Female</td>\n",
       "      <td>50</td>\n",
       "      <td>104467</td>\n",
       "      <td>72</td>\n",
       "      <td>NaN</td>\n",
       "      <td>5</td>\n",
       "      <td>1</td>\n",
       "    </tr>\n",
       "    <tr>\n",
       "      <th>1417</th>\n",
       "      <td>1418</td>\n",
       "      <td>Female</td>\n",
       "      <td>1</td>\n",
       "      <td>138656</td>\n",
       "      <td>27</td>\n",
       "      <td>NaN</td>\n",
       "      <td>3</td>\n",
       "      <td>4</td>\n",
       "    </tr>\n",
       "    <tr>\n",
       "      <th>1483</th>\n",
       "      <td>1484</td>\n",
       "      <td>Female</td>\n",
       "      <td>19</td>\n",
       "      <td>147052</td>\n",
       "      <td>86</td>\n",
       "      <td>NaN</td>\n",
       "      <td>9</td>\n",
       "      <td>4</td>\n",
       "    </tr>\n",
       "    <tr>\n",
       "      <th>1506</th>\n",
       "      <td>1507</td>\n",
       "      <td>Female</td>\n",
       "      <td>9</td>\n",
       "      <td>173233</td>\n",
       "      <td>18</td>\n",
       "      <td>NaN</td>\n",
       "      <td>5</td>\n",
       "      <td>1</td>\n",
       "    </tr>\n",
       "    <tr>\n",
       "      <th>1625</th>\n",
       "      <td>1626</td>\n",
       "      <td>Female</td>\n",
       "      <td>78</td>\n",
       "      <td>130706</td>\n",
       "      <td>72</td>\n",
       "      <td>NaN</td>\n",
       "      <td>3</td>\n",
       "      <td>6</td>\n",
       "    </tr>\n",
       "    <tr>\n",
       "      <th>1634</th>\n",
       "      <td>1635</td>\n",
       "      <td>Male</td>\n",
       "      <td>73</td>\n",
       "      <td>97455</td>\n",
       "      <td>55</td>\n",
       "      <td>NaN</td>\n",
       "      <td>6</td>\n",
       "      <td>4</td>\n",
       "    </tr>\n",
       "    <tr>\n",
       "      <th>1788</th>\n",
       "      <td>1789</td>\n",
       "      <td>Female</td>\n",
       "      <td>58</td>\n",
       "      <td>51416</td>\n",
       "      <td>46</td>\n",
       "      <td>NaN</td>\n",
       "      <td>7</td>\n",
       "      <td>5</td>\n",
       "    </tr>\n",
       "    <tr>\n",
       "      <th>1884</th>\n",
       "      <td>1885</td>\n",
       "      <td>Female</td>\n",
       "      <td>63</td>\n",
       "      <td>155638</td>\n",
       "      <td>81</td>\n",
       "      <td>NaN</td>\n",
       "      <td>1</td>\n",
       "      <td>4</td>\n",
       "    </tr>\n",
       "    <tr>\n",
       "      <th>1905</th>\n",
       "      <td>1906</td>\n",
       "      <td>Female</td>\n",
       "      <td>52</td>\n",
       "      <td>164038</td>\n",
       "      <td>53</td>\n",
       "      <td>NaN</td>\n",
       "      <td>5</td>\n",
       "      <td>4</td>\n",
       "    </tr>\n",
       "    <tr>\n",
       "      <th>1932</th>\n",
       "      <td>1933</td>\n",
       "      <td>Female</td>\n",
       "      <td>23</td>\n",
       "      <td>59905</td>\n",
       "      <td>79</td>\n",
       "      <td>NaN</td>\n",
       "      <td>7</td>\n",
       "      <td>5</td>\n",
       "    </tr>\n",
       "  </tbody>\n",
       "</table>\n",
       "</div>"
      ],
      "text/plain": [
       "      CustomerID  Gender  Age  Annual Income ($)  Spending Score (1-100)  \\\n",
       "79            80  Female   49              98000                      42   \n",
       "118          119  Female   51              84000                      43   \n",
       "219          220  Female   59              76000                      61   \n",
       "237          238    Male   95              36000                      35   \n",
       "437          438    Male   76             136259                      14   \n",
       "440          441  Female    0              57373                      29   \n",
       "498          499    Male   95             121725                       3   \n",
       "545          546  Female   89             107359                      26   \n",
       "601          602    Male   61             126370                      20   \n",
       "641          642    Male   66             121377                      19   \n",
       "665          666    Male   28             101414                      64   \n",
       "703          704    Male   22             114011                      40   \n",
       "801          802    Male   81             148208                      36   \n",
       "817          818  Female   91             154456                      71   \n",
       "850          851    Male   69             186655                      32   \n",
       "903          904  Female   15             174501                      37   \n",
       "927          928    Male   25              81367                      87   \n",
       "1009        1010    Male   69              61637                      67   \n",
       "1067        1068  Female   30              78821                      46   \n",
       "1088        1089  Female   10             162076                      78   \n",
       "1092        1093    Male   87             141383                       3   \n",
       "1188        1189  Female   99             122548                      14   \n",
       "1223        1224    Male   74             184838                      18   \n",
       "1316        1317  Female   33             109396                      17   \n",
       "1334        1335    Male   42              94844                      64   \n",
       "1384        1385  Female   50             104467                      72   \n",
       "1417        1418  Female    1             138656                      27   \n",
       "1483        1484  Female   19             147052                      86   \n",
       "1506        1507  Female    9             173233                      18   \n",
       "1625        1626  Female   78             130706                      72   \n",
       "1634        1635    Male   73              97455                      55   \n",
       "1788        1789  Female   58              51416                      46   \n",
       "1884        1885  Female   63             155638                      81   \n",
       "1905        1906  Female   52             164038                      53   \n",
       "1932        1933  Female   23              59905                      79   \n",
       "\n",
       "     Profession  Work Experience  Family Size  \n",
       "79          NaN                1            1  \n",
       "118         NaN                2            7  \n",
       "219         NaN                9            1  \n",
       "237         NaN                0            4  \n",
       "437         NaN                0            7  \n",
       "440         NaN                0            7  \n",
       "498         NaN               12            3  \n",
       "545         NaN               10            6  \n",
       "601         NaN               11            4  \n",
       "641         NaN                7            7  \n",
       "665         NaN                8            1  \n",
       "703         NaN                5            7  \n",
       "801         NaN                5            7  \n",
       "817         NaN                0            7  \n",
       "850         NaN                7            2  \n",
       "903         NaN                9            7  \n",
       "927         NaN                0            3  \n",
       "1009        NaN                0            5  \n",
       "1067        NaN                1            4  \n",
       "1088        NaN                0            3  \n",
       "1092        NaN                7            5  \n",
       "1188        NaN                2            5  \n",
       "1223        NaN                8            5  \n",
       "1316        NaN                1            2  \n",
       "1334        NaN                7            6  \n",
       "1384        NaN                5            1  \n",
       "1417        NaN                3            4  \n",
       "1483        NaN                9            4  \n",
       "1506        NaN                5            1  \n",
       "1625        NaN                3            6  \n",
       "1634        NaN                6            4  \n",
       "1788        NaN                7            5  \n",
       "1884        NaN                1            4  \n",
       "1905        NaN                5            4  \n",
       "1932        NaN                7            5  "
      ]
     },
     "execution_count": 136,
     "metadata": {},
     "output_type": "execute_result"
    }
   ],
   "source": [
    "#viewing the rows with nan in any column\n",
    "na_rows = df[df.isna().any(axis = 1)]\n",
    "na_rows"
   ]
  },
  {
   "cell_type": "markdown",
   "id": "ee274ef8",
   "metadata": {},
   "source": [
    "# Using Bar chart for Professions with Gender, Crosstab pandas function. Summing and sorting Female and Male gender. \n",
    "# what are the distribution of Gender among varies professions."
   ]
  },
  {
   "cell_type": "code",
   "execution_count": 137,
   "id": "25313152",
   "metadata": {},
   "outputs": [
    {
     "data": {
      "text/plain": [
       "[Text(0, 0, '232'),\n",
       " Text(0, 0, '143'),\n",
       " Text(0, 0, '101'),\n",
       " Text(0, 0, '76'),\n",
       " Text(0, 0, '72'),\n",
       " Text(0, 0, '66'),\n",
       " Text(0, 0, '56'),\n",
       " Text(0, 0, '32'),\n",
       " Text(0, 0, '21')]"
      ]
     },
     "execution_count": 137,
     "metadata": {},
     "output_type": "execute_result"
    },
    {
     "data": {
      "image/png": "[encoded data removed]",
      "text/plain": [
       "<Figure size 1584x432 with 1 Axes>"
      ]
     },
     "metadata": {},
     "output_type": "display_data"
    }
   ],
   "source": [
    "df_profession = pd.crosstab(df['Profession'],df['Gender'])\n",
    "sorted_indices = (df_profession[\"Female\"] + df_profession[\"Male\"]).sort_values(ascending=False).index\n",
    "ax=df_profession.loc[sorted_indices, :].plot(kind=\"bar\",stacked=True, figsize=(22,6))\n",
    "plt.xticks(rotation=0, fontsize=12)\n",
    "plt.yticks(fontsize=12)\n",
    "\n",
    "ax.bar_label(ax.containers[0],label_type='center')\n",
    "ax.bar_label(ax.containers[1],label_type='center')"
   ]
  },
  {
   "cell_type": "code",
   "execution_count": 138,
   "id": "a9a14af9",
   "metadata": {},
   "outputs": [],
   "source": [
    "# Calculate the percentage of each gender for available data\n",
    "profession_pct = df[~df['Profession'].isna()].groupby(['Profession'])['Profession'].count() / len(df[~df['Profession'].isna()])\n",
    "\n",
    "# Calculate the percentage of each gender for available data\n",
    "gender_pct = df.groupby(['Gender'])['Gender'].count() / len(df)\n",
    "\n",
    "# Fill in missing profession values\n",
    "for i, row in df[df['Profession'].isna()].iterrows():\n",
    "    profession = np.random.choice(profession_pct.index, p=profession_pct.values)\n",
    "    gender = row['Gender']\n",
    "    df.at[i, 'Profession'] = profession\n",
    "    df.at[i, 'Gender'] = gender"
   ]
  },
  {
   "cell_type": "code",
   "execution_count": 139,
   "id": "7bb31222",
   "metadata": {},
   "outputs": [
    {
     "data": {
      "text/plain": [
       "[Text(0, 0, '241'),\n",
       " Text(0, 0, '144'),\n",
       " Text(0, 0, '101'),\n",
       " Text(0, 0, '77'),\n",
       " Text(0, 0, '74'),\n",
       " Text(0, 0, '67'),\n",
       " Text(0, 0, '57'),\n",
       " Text(0, 0, '32'),\n",
       " Text(0, 0, '21')]"
      ]
     },
     "execution_count": 139,
     "metadata": {},
     "output_type": "execute_result"
    },
    {
     "data": {
      "image/png": "[encoded data removed]",
      "text/plain": [
       "<Figure size 1584x432 with 1 Axes>"
      ]
     },
     "metadata": {},
     "output_type": "display_data"
    }
   ],
   "source": [
    "#Filling the NaN Values with the most frequent occuring value from given data and displaying the increased count of Artist\n",
    "df_profession = pd.crosstab(df['Profession'],df['Gender'])\n",
    "sorted_indices = (df_profession[\"Female\"] + df_profession[\"Male\"]).sort_values(ascending=False).index\n",
    "ax=df_profession.loc[sorted_indices, :].plot(kind=\"bar\",stacked=True, figsize=(22,6))\n",
    "plt.xticks(rotation=0, fontsize=12)\n",
    "plt.yticks(fontsize=12)\n",
    "\n",
    "ax.bar_label(ax.containers[0],label_type='center')\n",
    "ax.bar_label(ax.containers[1],label_type='center')"
   ]
  },
  {
   "cell_type": "markdown",
   "id": "793c8aa3",
   "metadata": {},
   "source": [
    "# Can we predict which profession has a higher likelihood of having customers with a membership and age above 25?"
   ]
  },
  {
   "cell_type": "code",
   "execution_count": 140,
   "id": "bd1f60fc",
   "metadata": {},
   "outputs": [
    {
     "name": "stdout",
     "output_type": "stream",
     "text": [
      "Mean age for profession Healthcare: 47.76\n",
      "Median age for profession Healthcare: 47.00\n",
      "Mode age for profession Healthcare: 21.00\n",
      "Mean age for profession Engineer: 55.19\n",
      "Median age for profession Engineer: 58.00\n",
      "Mode age for profession Engineer: 52.00\n",
      "Mean age for profession Lawyer: 47.76\n",
      "Median age for profession Lawyer: 48.00\n",
      "Mode age for profession Lawyer: 54.00\n",
      "Mean age for profession Entertainment: 51.16\n",
      "Median age for profession Entertainment: 50.00\n",
      "Mode age for profession Entertainment: 73.00\n",
      "Mean age for profession Artist: 48.95\n",
      "Median age for profession Artist: 47.00\n",
      "Mode age for profession Artist: 30.00\n",
      "Mean age for profession Executive: 46.93\n",
      "Median age for profession Executive: 47.00\n",
      "Mode age for profession Executive: 92.00\n",
      "Mean age for profession Doctor: 46.93\n",
      "Median age for profession Doctor: 48.00\n",
      "Mode age for profession Doctor: 59.00\n",
      "Mean age for profession Homemaker: 45.37\n",
      "Median age for profession Homemaker: 41.00\n",
      "Mode age for profession Homemaker: 22.00\n",
      "Mean age for profession Marketing: 46.80\n",
      "Median age for profession Marketing: 42.00\n",
      "Mode age for profession Marketing: 0.00\n"
     ]
    }
   ],
   "source": [
    "#################Question 1################\n",
    "df_professions = df['Profession'].unique()\n",
    "mean_age = []\n",
    "\n",
    "for profession in df_professions:\n",
    "    mean_age_value = df.loc[df['Profession'] == profession, 'Age'].mean()\n",
    "    median_age_value = df.loc[df['Profession'] == profession, 'Age'].median()\n",
    "    mode_age_value = df.loc[df['Profession'] == profession, 'Age'].mode()\n",
    "    print(f\"Mean age for profession {profession}: {mean_age_value:.2f}\")\n",
    "    print(f\"Median age for profession {profession}: {median_age_value:.2f}\")\n",
    "    print(f\"Mode age for profession {profession}: {mode_age_value.values[0]:.2f}\")"
   ]
  },
  {
   "cell_type": "code",
   "execution_count": 141,
   "id": "c129b8ff",
   "metadata": {},
   "outputs": [
    {
     "name": "stdout",
     "output_type": "stream",
     "text": [
      "Q1 for Healthcare = 23.75\n",
      "IQR for Healthcare = 44.25\n",
      "Q3 for Healthcare = 68.00\n",
      "Q1 for Engineer = 31.00\n",
      "IQR for Engineer = 49.00\n",
      "Q3 for Engineer = 80.00\n",
      "Q1 for Lawyer = 24.75\n",
      "IQR for Lawyer = 48.25\n",
      "Q3 for Lawyer = 73.00\n",
      "Q1 for Entertainment = 27.00\n",
      "IQR for Entertainment = 52.00\n",
      "Q3 for Entertainment = 79.00\n",
      "Q1 for Artist = 25.00\n",
      "IQR for Artist = 46.75\n",
      "Q3 for Artist = 71.75\n",
      "Q1 for Executive = 25.00\n",
      "IQR for Executive = 47.50\n",
      "Q3 for Executive = 72.50\n",
      "Q1 for Doctor = 21.00\n",
      "IQR for Doctor = 50.00\n",
      "Q3 for Doctor = 71.00\n",
      "Q1 for Homemaker = 22.00\n",
      "IQR for Homemaker = 46.00\n",
      "Q3 for Homemaker = 68.00\n",
      "Q1 for Marketing = 20.50\n",
      "IQR for Marketing = 53.00\n",
      "Q3 for Marketing = 73.50\n",
      "Q1 for nan = nan\n",
      "IQR for nan = nan\n",
      "Q3 for nan = nan\n"
     ]
    }
   ],
   "source": [
    "# Calculate the interquartile range for each profession\n",
    "for profession in professions:\n",
    "    Q1 = df[df['Profession'] == profession]['Age'].quantile(0.25)\n",
    "    Q3 = df[df['Profession'] == profession]['Age'].quantile(0.75)\n",
    "    IQR = Q3 - Q1\n",
    "    print(f\"Q1 for {profession} = {Q1:.2f}\")\n",
    "    print(f\"IQR for {profession} = {IQR:.2f}\")\n",
    "    print(f\"Q3 for {profession} = {Q3:.2f}\")"
   ]
  },
  {
   "cell_type": "code",
   "execution_count": 94,
   "id": "f8051c80",
   "metadata": {},
   "outputs": [
    {
     "data": {
      "image/png": "[encoded data removed]",
      "text/plain": [
       "<Figure size 576x576 with 1 Axes>"
      ]
     },
     "metadata": {},
     "output_type": "display_data"
    }
   ],
   "source": [
    "plt.figure(figsize=(8,8))\n",
    "sns.set_style('whitegrid')\n",
    "sns.set_context(\"poster\",font_scale=0.6)\n",
    "sns.boxplot(data=df,y='Profession',x='Age',\n",
    "            showmeans=True, meanprops={\"marker\": \"|\",\n",
    "                       \"markeredgecolor\": \"white\",\n",
    "                       \"markersize\": \"15\"})\n",
    "plt.show()"
   ]
  },
  {
   "cell_type": "markdown",
   "id": "416583a5",
   "metadata": {},
   "source": [
    "# What is the relationship between the spending score and the family size of customers? Can we predict the maximum, minimum, and average family size of customers with the highest and lowest spending scores?"
   ]
  },
  {
   "cell_type": "code",
   "execution_count": 142,
   "id": "2c5b7a6d",
   "metadata": {},
   "outputs": [
    {
     "name": "stdout",
     "output_type": "stream",
     "text": [
      "Mean score for Family Size 4: 52.71\n",
      "Median score for Family Size 4: 51.00\n",
      "Mode score for Family Size 4: 99.00\n",
      "Mean score for Family Size 3: 51.95\n",
      "Median score for Family Size 3: 53.00\n",
      "Mode score for Family Size 3: 17.00\n",
      "Mean score for Family Size 1: 49.65\n",
      "Median score for Family Size 1: 48.00\n",
      "Mode score for Family Size 1: 41.00\n",
      "Mean score for Family Size 2: 50.36\n",
      "Median score for Family Size 2: 50.00\n",
      "Mode score for Family Size 2: 47.00\n",
      "Mean score for Family Size 6: 49.94\n",
      "Median score for Family Size 6: 50.00\n",
      "Mode score for Family Size 6: 60.00\n",
      "Mean score for Family Size 5: 52.18\n",
      "Median score for Family Size 5: 51.00\n",
      "Mode score for Family Size 5: 73.00\n",
      "Mean score for Family Size 8: 49.25\n",
      "Median score for Family Size 8: 49.00\n",
      "Mode score for Family Size 8: 0.00\n",
      "Mean score for Family Size 7: 49.99\n",
      "Median score for Family Size 7: 49.00\n",
      "Mode score for Family Size 7: 70.00\n",
      "Mean score for Family Size 9: 17.00\n",
      "Median score for Family Size 9: 17.00\n",
      "Mode score for Family Size 9: 17.00\n"
     ]
    }
   ],
   "source": [
    "df_Family_Size  = df['Family Size'].unique()\n",
    "\n",
    "for Size in df_Family_Size:\n",
    "    mean_size_value = df.loc[df['Family Size'] == Size, 'Spending Score (1-100)'].mean()\n",
    "    median_size_value = df.loc[df['Family Size'] == Size, 'Spending Score (1-100)'].median()\n",
    "    mode_size_value = df.loc[df['Family Size'] == Size, 'Spending Score (1-100)'].mode()\n",
    "    print(f\"Mean score for Family Size {Size}: {mean_size_value:.2f}\")\n",
    "    print(f\"Median score for Family Size {Size}: {median_size_value:.2f}\")\n",
    "    print(f\"Mode score for Family Size {Size}: {mode_size_value.values[0]:.2f}\")"
   ]
  },
  {
   "cell_type": "code",
   "execution_count": 143,
   "id": "b439d700",
   "metadata": {},
   "outputs": [
    {
     "name": "stdout",
     "output_type": "stream",
     "text": [
      "Q1 for Family Size 4 = 30.00\n",
      "IQR for Family Size 4 = 48.00\n",
      "Q3 for Family Size 4 = 78.00\n",
      "Q1 for Family Size 3 = 24.00\n",
      "IQR for Family Size 3 = 52.00\n",
      "Q3 for Family Size 3 = 76.00\n",
      "Q1 for Family Size 1 = 26.00\n",
      "IQR for Family Size 1 = 46.50\n",
      "Q3 for Family Size 1 = 72.50\n",
      "Q1 for Family Size 2 = 28.00\n",
      "IQR for Family Size 2 = 48.00\n",
      "Q3 for Family Size 2 = 76.00\n",
      "Q1 for Family Size 6 = 24.50\n",
      "IQR for Family Size 6 = 48.00\n",
      "Q3 for Family Size 6 = 72.50\n",
      "Q1 for Family Size 5 = 32.25\n",
      "IQR for Family Size 5 = 41.50\n",
      "Q3 for Family Size 5 = 73.75\n",
      "Q1 for Family Size 8 = 24.00\n",
      "IQR for Family Size 8 = 50.25\n",
      "Q3 for Family Size 8 = 74.25\n",
      "Q1 for Family Size 7 = 29.00\n",
      "IQR for Family Size 7 = 41.75\n",
      "Q3 for Family Size 7 = 70.75\n",
      "Q1 for Family Size 9 = 17.00\n",
      "IQR for Family Size 9 = 0.00\n",
      "Q3 for Family Size 9 = 17.00\n"
     ]
    }
   ],
   "source": [
    "# Calculate the interquartile range for each profession\n",
    "for Size in df_Family_Size:\n",
    "    Q1 = df[df['Family Size'] == Size]['Spending Score (1-100)'].quantile(0.25)\n",
    "    Q3 = df[df['Family Size'] == Size]['Spending Score (1-100)'].quantile(0.75)\n",
    "    IQR = Q3 - Q1\n",
    "    print(f\"Q1 for Family Size {Size} = {Q1:.2f}\")\n",
    "    print(f\"IQR for Family Size {Size} = {IQR:.2f}\")\n",
    "    print(f\"Q3 for Family Size {Size} = {Q3:.2f}\")"
   ]
  },
  {
   "cell_type": "code",
   "execution_count": 144,
   "id": "8f0e767a",
   "metadata": {},
   "outputs": [
    {
     "data": {
      "image/png": "[encoded data removed]",
      "text/plain": [
       "<Figure size 432x288 with 1 Axes>"
      ]
     },
     "metadata": {},
     "output_type": "display_data"
    }
   ],
   "source": [
    "#############Question 2#################scatter plot of spending score and family size?\n",
    "sns.set_theme()\n",
    "sns.set_style('whitegrid')\n",
    "sns.set_context('poster',font_scale=0.5)\n",
    "plt.tick_params(axis='y', labelsize=15)\n",
    "sns.boxplot(data=df,y='Spending Score (1-100)',x='Family Size',palette='hls')\n",
    "plt.show()"
   ]
  },
  {
   "cell_type": "code",
   "execution_count": 145,
   "id": "94d26acf",
   "metadata": {},
   "outputs": [
    {
     "data": {
      "text/plain": [
       "<AxesSubplot:xlabel='Family Size', ylabel='Spending Score (1-100)'>"
      ]
     },
     "execution_count": 145,
     "metadata": {},
     "output_type": "execute_result"
    },
    {
     "data": {
      "image/png": "[encoded data removed]",
      "text/plain": [
       "<Figure size 864x432 with 1 Axes>"
      ]
     },
     "metadata": {},
     "output_type": "display_data"
    }
   ],
   "source": [
    "plt.figure(figsize=(12,6))\n",
    "sns.lineplot(data=df,x='Family Size',y='Spending Score (1-100)',\\\n",
    "             hue='Gender')"
   ]
  },
  {
   "cell_type": "markdown",
   "id": "b437eccf",
   "metadata": {},
   "source": [
    "# What is the most likely profession or group of professions that have the highest spending score among customers?"
   ]
  },
  {
   "cell_type": "code",
   "execution_count": 146,
   "id": "206fbfb3",
   "metadata": {},
   "outputs": [
    {
     "name": "stdout",
     "output_type": "stream",
     "text": [
      "Mean Spending Score (1-100) for profession Healthcare: 50.43\n",
      "Median Spending Score (1-100) for profession Healthcare: 51.00\n",
      "Mode Spending Score (1-100) for profession Healthcare: 14.00\n",
      "Mean Spending Score (1-100) for profession Engineer: 48.80\n",
      "Median Spending Score (1-100) for profession Engineer: 47.00\n",
      "Mode Spending Score (1-100) for profession Engineer: 45.00\n",
      "Mean Spending Score (1-100) for profession Lawyer: 49.11\n",
      "Median Spending Score (1-100) for profession Lawyer: 49.50\n",
      "Mode Spending Score (1-100) for profession Lawyer: 46.00\n",
      "Mean Spending Score (1-100) for profession Entertainment: 52.94\n",
      "Median Spending Score (1-100) for profession Entertainment: 53.00\n",
      "Mode Spending Score (1-100) for profession Entertainment: 49.00\n",
      "Mean Spending Score (1-100) for profession Artist: 52.38\n",
      "Median Spending Score (1-100) for profession Artist: 52.00\n",
      "Mode Spending Score (1-100) for profession Artist: 55.00\n",
      "Mean Spending Score (1-100) for profession Executive: 50.01\n",
      "Median Spending Score (1-100) for profession Executive: 49.00\n",
      "Mode Spending Score (1-100) for profession Executive: 88.00\n",
      "Mean Spending Score (1-100) for profession Doctor: 51.66\n",
      "Median Spending Score (1-100) for profession Doctor: 50.00\n",
      "Mode Spending Score (1-100) for profession Doctor: 42.00\n",
      "Mean Spending Score (1-100) for profession Homemaker: 46.38\n",
      "Median Spending Score (1-100) for profession Homemaker: 45.50\n",
      "Mode Spending Score (1-100) for profession Homemaker: 32.00\n",
      "Mean Spending Score (1-100) for profession Marketing: 48.59\n",
      "Median Spending Score (1-100) for profession Marketing: 46.00\n",
      "Mode Spending Score (1-100) for profession Marketing: 3.00\n"
     ]
    }
   ],
   "source": [
    "df_professions = df['Profession'].unique()\n",
    "#mean_age = []\n",
    "\n",
    "for profession in df_professions:\n",
    "    mean_score_value = df.loc[df['Profession'] == profession, 'Spending Score (1-100)'].mean()\n",
    "    median_score_value = df.loc[df['Profession'] == profession, 'Spending Score (1-100)'].median()\n",
    "    mode_score_value = df.loc[df['Profession'] == profession, 'Spending Score (1-100)'].mode()\n",
    "    print(f\"Mean Spending Score (1-100) for profession {profession}: {mean_score_value:.2f}\")\n",
    "    print(f\"Median Spending Score (1-100) for profession {profession}: {median_score_value:.2f}\")\n",
    "    print(f\"Mode Spending Score (1-100) for profession {profession}: {mode_score_value.values[0]:.2f}\")"
   ]
  },
  {
   "cell_type": "code",
   "execution_count": 147,
   "id": "ba5dca72",
   "metadata": {},
   "outputs": [
    {
     "name": "stdout",
     "output_type": "stream",
     "text": [
      "Q1 for profession Healthcare = 25.75\n",
      "IQR for profession Healthcare = 48.25\n",
      "Q3 for profession Healthcare = 74.00\n",
      "Q1 for profession Engineer = 27.00\n",
      "IQR for profession Engineer = 43.00\n",
      "Q3 for profession Engineer = 70.00\n",
      "Q1 for profession Lawyer = 24.75\n",
      "IQR for profession Lawyer = 49.25\n",
      "Q3 for profession Lawyer = 74.00\n",
      "Q1 for profession Entertainment = 32.00\n",
      "IQR for profession Entertainment = 43.75\n",
      "Q3 for profession Entertainment = 75.75\n",
      "Q1 for profession Artist = 28.00\n",
      "IQR for profession Artist = 48.00\n",
      "Q3 for profession Artist = 76.00\n",
      "Q1 for profession Executive = 28.00\n",
      "IQR for profession Executive = 46.50\n",
      "Q3 for profession Executive = 74.50\n",
      "Q1 for profession Doctor = 32.00\n",
      "IQR for profession Doctor = 44.00\n",
      "Q3 for profession Doctor = 76.00\n",
      "Q1 for profession Homemaker = 28.50\n",
      "IQR for profession Homemaker = 31.25\n",
      "Q3 for profession Homemaker = 59.75\n",
      "Q1 for profession Marketing = 24.50\n",
      "IQR for profession Marketing = 48.00\n",
      "Q3 for profession Marketing = 72.50\n",
      "Q1 for profession nan = nan\n",
      "IQR for profession nan = nan\n",
      "Q3 for profession nan = nan\n"
     ]
    }
   ],
   "source": [
    "# Calculate the interquartile range for each profession\n",
    "for profession in professions:\n",
    "    Q1 = df[df['Profession'] == profession]['Spending Score (1-100)'].quantile(0.25)\n",
    "    Q3 = df[df['Profession'] == profession]['Spending Score (1-100)'].quantile(0.75)\n",
    "    IQR = Q3 - Q1\n",
    "    print(f\"Q1 for profession {profession} = {Q1:.2f}\")\n",
    "    print(f\"IQR for profession {profession} = {IQR:.2f}\")\n",
    "    print(f\"Q3 for profession {profession} = {Q3:.2f}\")"
   ]
  },
  {
   "cell_type": "code",
   "execution_count": 99,
   "id": "6c563cc2",
   "metadata": {},
   "outputs": [
    {
     "data": {
      "image/png": "[encoded data removed]",
      "text/plain": [
       "<Figure size 576x576 with 1 Axes>"
      ]
     },
     "metadata": {},
     "output_type": "display_data"
    }
   ],
   "source": [
    "##########################Question 3############################\n",
    "#\n",
    "plt.figure(figsize=(8,8))\n",
    "sns.set_style('whitegrid')\n",
    "sns.set_context(\"poster\",font_scale=0.6)\n",
    "sns.boxplot(data=df,y='Profession',x='Spending Score (1-100)',\n",
    "           showmeans=True, meanprops={\"marker\": \"|\",\n",
    "                       \"markeredgecolor\": \"white\",\n",
    "                       \"markersize\": \"15\"})\n",
    "#print(meanprops)\n",
    "plt.show()"
   ]
  },
  {
   "cell_type": "markdown",
   "id": "e702f0c9",
   "metadata": {},
   "source": [
    "# What is the relationship between annual income and spending score of customers with the highest spending score? Can we predict the range of annual income of the customer with the highest spending score?"
   ]
  },
  {
   "cell_type": "markdown",
   "id": "45efce19",
   "metadata": {},
   "source": [
    "# What is the gender distribution of customers with an annual income above 50000 who have the highest spending scores?"
   ]
  },
  {
   "cell_type": "code",
   "execution_count": 148,
   "id": "aa01b32d",
   "metadata": {},
   "outputs": [
    {
     "name": "stdout",
     "output_type": "stream",
     "text": [
      "Male mean of Spending Score (1-100) :  50.94471744471745\n",
      "Female mean of Spending Score (1-100) :  50.974704890387855\n",
      "Male median of Spending Score (1-100) :  51.0\n",
      "Female median of Spending Score (1-100) :  50.0\n",
      "Male mode of Spending Score (1-100) :  0    42\n",
      "Name: Spending Score (1-100), dtype: int64\n",
      "Female mode of Spending Score (1-100) :  0    17\n",
      "Name: Spending Score (1-100), dtype: int64\n"
     ]
    }
   ],
   "source": [
    "Male_df = df[df['Gender'] == 'Male']\n",
    "Female_df = df[df['Gender'] == 'Female']\n",
    "#mean of Spending Score\n",
    "Male_mean_Spending_Score = Male_df['Spending Score (1-100)'].mean()\n",
    "Female_mean_Spending_Score = Female_df['Spending Score (1-100)'].mean()\n",
    "print(\"Male mean of Spending Score (1-100) : \",Male_mean_Spending_Score)\n",
    "print(\"Female mean of Spending Score (1-100) : \",Female_mean_Spending_Score)\n",
    "#median of Spending Score\n",
    "Male_median_Spending_Score = Male_df['Spending Score (1-100)'].median()\n",
    "Female_median_Spending_Score = Female_df['Spending Score (1-100)'].median()\n",
    "print(\"Male median of Spending Score (1-100) : \",Male_median_Spending_Score)\n",
    "print(\"Female median of Spending Score (1-100) : \",Female_median_Spending_Score)\n",
    "#mode of Spending Score\n",
    "Male_mode_Spending_Score = Male_df['Spending Score (1-100)'].mode()\n",
    "Female_mode_Spending_Score = Female_df['Spending Score (1-100)'].mode()\n",
    "print(\"Male mode of Spending Score (1-100) : \",Male_mode_Spending_Score)\n",
    "print(\"Female mode of Spending Score (1-100) : \",Female_mode_Spending_Score)"
   ]
  },
  {
   "cell_type": "code",
   "execution_count": 149,
   "id": "f4a4aeee",
   "metadata": {},
   "outputs": [
    {
     "name": "stdout",
     "output_type": "stream",
     "text": [
      "Q1 25th percentile of Spending Score (1-100): 28.0\n",
      "Q3 75th percentile of Spending Score (1-100): 75.0\n",
      "Interquartile range (IQR) of Spending Score (1-100):  47.0\n"
     ]
    }
   ],
   "source": [
    "# Calculate the 25th and 75th percentiles for Male\n",
    "Q1 = Male_df['Spending Score (1-100)'].quantile(0.25)\n",
    "Q3 = Male_df['Spending Score (1-100)'].quantile(0.75)\n",
    "\n",
    "# Calculate the interquartile range (IQR)\n",
    "IQR = Q3 - Q1\n",
    "print(\"Q1 25th percentile of Spending Score (1-100):\", Q1)\n",
    "print(\"Q3 75th percentile of Spending Score (1-100):\", Q3)\n",
    "print(\"Interquartile range (IQR) of Spending Score (1-100): \", IQR)"
   ]
  },
  {
   "cell_type": "code",
   "execution_count": 150,
   "id": "6aead6e5",
   "metadata": {},
   "outputs": [
    {
     "name": "stdout",
     "output_type": "stream",
     "text": [
      "Q1 25th percentile of Spending Score (1-100): 28.0\n",
      "Q3 75th percentile of Spending Score (1-100): 75.0\n",
      "Interquartile range (IQR) of Spending Score (1-100):  47.0\n"
     ]
    }
   ],
   "source": [
    "# Calculate the 25th and 75th percentiles for Male\n",
    "Q1 = Female_df['Spending Score (1-100)'].quantile(0.25)\n",
    "Q3 = Female_df['Spending Score (1-100)'].quantile(0.75)\n",
    "\n",
    "# Calculate the interquartile range (IQR)\n",
    "IQR = Q3 - Q1\n",
    "print(\"Q1 25th percentile of Spending Score (1-100):\", Q1)\n",
    "print(\"Q3 75th percentile of Spending Score (1-100):\", Q3)\n",
    "print(\"Interquartile range (IQR) of Spending Score (1-100): \", IQR)"
   ]
  },
  {
   "cell_type": "code",
   "execution_count": 151,
   "id": "1edb36d8",
   "metadata": {},
   "outputs": [
    {
     "name": "stdout",
     "output_type": "stream",
     "text": [
      "Q1 25th percentile of Spending Score (1-100): 28.0\n",
      "Q3 75th percentile of Spending Score (1-100): 75.0\n",
      "Interquartile range (IQR) of Spending Score (1-100):  47.0\n"
     ]
    }
   ],
   "source": [
    "# Calculate the 25th and 75th percentiles\n",
    "Q1 = df['Spending Score (1-100)'].quantile(0.25)\n",
    "Q3 = df['Spending Score (1-100)'].quantile(0.75)\n",
    "\n",
    "# Calculate the interquartile range (IQR)\n",
    "IQR = Q3 - Q1\n",
    "print(\"Q1 25th percentile of Spending Score (1-100):\", Q1)\n",
    "print(\"Q3 75th percentile of Spending Score (1-100):\", Q3)\n",
    "print(\"Interquartile range (IQR) of Spending Score (1-100): \", IQR)"
   ]
  },
  {
   "cell_type": "code",
   "execution_count": 152,
   "id": "10da78d2",
   "metadata": {},
   "outputs": [
    {
     "data": {
      "image/png": "[encoded data removed]",
      "text/plain": [
       "<Figure size 432x288 with 1 Axes>"
      ]
     },
     "metadata": {},
     "output_type": "display_data"
    },
    {
     "data": {
      "image/png": "[encoded data removed]",
      "text/plain": [
       "<Figure size 432x288 with 1 Axes>"
      ]
     },
     "metadata": {},
     "output_type": "display_data"
    },
    {
     "data": {
      "image/png": "[encoded data removed]",
      "text/plain": [
       "<Figure size 576x576 with 1 Axes>"
      ]
     },
     "metadata": {},
     "output_type": "display_data"
    }
   ],
   "source": [
    "#################question 4 & 5################################# profession, gender, spending score bar plot \n",
    "#income, age, spending score bar plot\n",
    "#\n",
    "sns.set_theme()\n",
    "sns.set_style('whitegrid')\n",
    "sns.set_context('poster',font_scale=0.5)\n",
    "plt.tick_params(axis='y', labelsize=15)\n",
    "sns.boxplot(data=df,x='Spending Score (1-100)',palette='hls')\n",
    "plt.show()\n",
    "#########\n",
    "sns.set_theme()\n",
    "sns.set_style('whitegrid')\n",
    "sns.set_context('poster',font_scale=0.5)\n",
    "plt.tick_params(axis='y', labelsize=15)\n",
    "sns.boxplot(data=df,x='Spending Score (1-100)',y='Gender',palette='hls')\n",
    "plt.show()\n",
    "####\n",
    "plt.figure(figsize=(8,8))\n",
    "sns.scatterplot(data=df,x='Annual Income ($)',y='Spending Score (1-100)',hue='Gender',palette='hls',s=50)\n",
    "plt.legend(loc='center left', bbox_to_anchor=(1, 0.5))\n",
    "plt.show()"
   ]
  },
  {
   "cell_type": "markdown",
   "id": "f6ba34e2",
   "metadata": {},
   "source": [
    "# What Family size group has the highest frequency of shopping among customers?"
   ]
  },
  {
   "cell_type": "code",
   "execution_count": 153,
   "id": "073d72cb",
   "metadata": {},
   "outputs": [
    {
     "data": {
      "text/plain": [
       "2    361\n",
       "3    311\n",
       "1    299\n",
       "4    289\n",
       "5    258\n",
       "Name: Family_size, dtype: int64"
      ]
     },
     "execution_count": 153,
     "metadata": {},
     "output_type": "execute_result"
    }
   ],
   "source": [
    "##############################Question 6##########################################################\n",
    "#is there a particular Family Size group among them that has a high frequency of shopping?\n",
    "df.rename(columns={\"Spending Score (1-100)\":\"Spending_score\",\"Family Size\":\"Family_size\"},inplace=True)\n",
    "df.Family_size.value_counts().head()"
   ]
  },
  {
   "cell_type": "code",
   "execution_count": 154,
   "id": "3d33d4be",
   "metadata": {},
   "outputs": [
    {
     "data": {
      "text/plain": [
       "<AxesSubplot:>"
      ]
     },
     "execution_count": 154,
     "metadata": {},
     "output_type": "execute_result"
    },
    {
     "data": {
      "image/png": "[encoded data removed]",
      "text/plain": [
       "<Figure size 864x576 with 1 Axes>"
      ]
     },
     "metadata": {},
     "output_type": "display_data"
    }
   ],
   "source": [
    "df.Family_size.value_counts().head().plot(kind=\"bar\",figsize=(12,8))"
   ]
  },
  {
   "cell_type": "code",
   "execution_count": null,
   "id": "d534e310",
   "metadata": {},
   "outputs": [],
   "source": [
    "# It has been observed that people who frequently shop have a higher likelihood of belonging to households with 2, 3, or 1 \n",
    "#family members in that order, compared to households with 4 or 5 family members."
   ]
  },
  {
   "cell_type": "code",
   "execution_count": 155,
   "id": "99689891",
   "metadata": {},
   "outputs": [
    {
     "data": {
      "text/html": [
       "<div>\n",
       "<style scoped>\n",
       "    .dataframe tbody tr th:only-of-type {\n",
       "        vertical-align: middle;\n",
       "    }\n",
       "\n",
       "    .dataframe tbody tr th {\n",
       "        vertical-align: top;\n",
       "    }\n",
       "\n",
       "    .dataframe thead th {\n",
       "        text-align: right;\n",
       "    }\n",
       "</style>\n",
       "<table border=\"1\" class=\"dataframe\">\n",
       "  <thead>\n",
       "    <tr style=\"text-align: right;\">\n",
       "      <th></th>\n",
       "      <th>Gender</th>\n",
       "      <th>Profession</th>\n",
       "      <th>Count</th>\n",
       "    </tr>\n",
       "  </thead>\n",
       "  <tbody>\n",
       "    <tr>\n",
       "      <th>0</th>\n",
       "      <td>Female</td>\n",
       "      <td>Artist</td>\n",
       "      <td>389</td>\n",
       "    </tr>\n",
       "    <tr>\n",
       "      <th>1</th>\n",
       "      <td>Female</td>\n",
       "      <td>Healthcare</td>\n",
       "      <td>200</td>\n",
       "    </tr>\n",
       "    <tr>\n",
       "      <th>2</th>\n",
       "      <td>Female</td>\n",
       "      <td>Entertainment</td>\n",
       "      <td>133</td>\n",
       "    </tr>\n",
       "    <tr>\n",
       "      <th>3</th>\n",
       "      <td>Female</td>\n",
       "      <td>Engineer</td>\n",
       "      <td>104</td>\n",
       "    </tr>\n",
       "    <tr>\n",
       "      <th>4</th>\n",
       "      <td>Female</td>\n",
       "      <td>Doctor</td>\n",
       "      <td>91</td>\n",
       "    </tr>\n",
       "    <tr>\n",
       "      <th>5</th>\n",
       "      <td>Female</td>\n",
       "      <td>Executive</td>\n",
       "      <td>88</td>\n",
       "    </tr>\n",
       "    <tr>\n",
       "      <th>6</th>\n",
       "      <td>Female</td>\n",
       "      <td>Lawyer</td>\n",
       "      <td>87</td>\n",
       "    </tr>\n",
       "    <tr>\n",
       "      <th>7</th>\n",
       "      <td>Female</td>\n",
       "      <td>Marketing</td>\n",
       "      <td>55</td>\n",
       "    </tr>\n",
       "    <tr>\n",
       "      <th>8</th>\n",
       "      <td>Female</td>\n",
       "      <td>Homemaker</td>\n",
       "      <td>39</td>\n",
       "    </tr>\n",
       "    <tr>\n",
       "      <th>9</th>\n",
       "      <td>Male</td>\n",
       "      <td>Artist</td>\n",
       "      <td>241</td>\n",
       "    </tr>\n",
       "    <tr>\n",
       "      <th>10</th>\n",
       "      <td>Male</td>\n",
       "      <td>Healthcare</td>\n",
       "      <td>144</td>\n",
       "    </tr>\n",
       "    <tr>\n",
       "      <th>11</th>\n",
       "      <td>Male</td>\n",
       "      <td>Entertainment</td>\n",
       "      <td>101</td>\n",
       "    </tr>\n",
       "    <tr>\n",
       "      <th>12</th>\n",
       "      <td>Male</td>\n",
       "      <td>Engineer</td>\n",
       "      <td>77</td>\n",
       "    </tr>\n",
       "    <tr>\n",
       "      <th>13</th>\n",
       "      <td>Male</td>\n",
       "      <td>Doctor</td>\n",
       "      <td>74</td>\n",
       "    </tr>\n",
       "    <tr>\n",
       "      <th>14</th>\n",
       "      <td>Male</td>\n",
       "      <td>Executive</td>\n",
       "      <td>67</td>\n",
       "    </tr>\n",
       "    <tr>\n",
       "      <th>15</th>\n",
       "      <td>Male</td>\n",
       "      <td>Lawyer</td>\n",
       "      <td>57</td>\n",
       "    </tr>\n",
       "    <tr>\n",
       "      <th>16</th>\n",
       "      <td>Male</td>\n",
       "      <td>Marketing</td>\n",
       "      <td>32</td>\n",
       "    </tr>\n",
       "    <tr>\n",
       "      <th>17</th>\n",
       "      <td>Male</td>\n",
       "      <td>Homemaker</td>\n",
       "      <td>21</td>\n",
       "    </tr>\n",
       "  </tbody>\n",
       "</table>\n",
       "</div>"
      ],
      "text/plain": [
       "    Gender     Profession  Count\n",
       "0   Female         Artist    389\n",
       "1   Female     Healthcare    200\n",
       "2   Female  Entertainment    133\n",
       "3   Female       Engineer    104\n",
       "4   Female         Doctor     91\n",
       "5   Female      Executive     88\n",
       "6   Female         Lawyer     87\n",
       "7   Female      Marketing     55\n",
       "8   Female      Homemaker     39\n",
       "9     Male         Artist    241\n",
       "10    Male     Healthcare    144\n",
       "11    Male  Entertainment    101\n",
       "12    Male       Engineer     77\n",
       "13    Male         Doctor     74\n",
       "14    Male      Executive     67\n",
       "15    Male         Lawyer     57\n",
       "16    Male      Marketing     32\n",
       "17    Male      Homemaker     21"
      ]
     },
     "execution_count": 155,
     "metadata": {},
     "output_type": "execute_result"
    }
   ],
   "source": [
    "# counting the number of males and females by profession\n",
    "m_f = df.groupby(\"Gender\")[\"Profession\"].value_counts().reset_index(name = \"Count\")\n",
    "m_f"
   ]
  },
  {
   "cell_type": "markdown",
   "id": "e1f8dde2",
   "metadata": {},
   "source": [
    "# What is the most common profession that has both a high mean income and a high mean spending score among customers? "
   ]
  },
  {
   "cell_type": "code",
   "execution_count": 157,
   "id": "7e5d7f08",
   "metadata": {},
   "outputs": [
    {
     "data": {
      "text/html": [
       "<div>\n",
       "<style scoped>\n",
       "    .dataframe tbody tr th:only-of-type {\n",
       "        vertical-align: middle;\n",
       "    }\n",
       "\n",
       "    .dataframe tbody tr th {\n",
       "        vertical-align: top;\n",
       "    }\n",
       "\n",
       "    .dataframe thead th {\n",
       "        text-align: right;\n",
       "    }\n",
       "</style>\n",
       "<table border=\"1\" class=\"dataframe\">\n",
       "  <thead>\n",
       "    <tr style=\"text-align: right;\">\n",
       "      <th></th>\n",
       "      <th>profession</th>\n",
       "      <th>annual_income</th>\n",
       "      <th>spending_score</th>\n",
       "    </tr>\n",
       "  </thead>\n",
       "  <tbody>\n",
       "    <tr>\n",
       "      <th>3</th>\n",
       "      <td>Entertainment</td>\n",
       "      <td>110650.33</td>\n",
       "      <td>52.94</td>\n",
       "    </tr>\n",
       "    <tr>\n",
       "      <th>0</th>\n",
       "      <td>Artist</td>\n",
       "      <td>108946.31</td>\n",
       "      <td>52.38</td>\n",
       "    </tr>\n",
       "    <tr>\n",
       "      <th>1</th>\n",
       "      <td>Doctor</td>\n",
       "      <td>111497.88</td>\n",
       "      <td>51.66</td>\n",
       "    </tr>\n",
       "    <tr>\n",
       "      <th>5</th>\n",
       "      <td>Healthcare</td>\n",
       "      <td>112651.90</td>\n",
       "      <td>50.43</td>\n",
       "    </tr>\n",
       "    <tr>\n",
       "      <th>4</th>\n",
       "      <td>Executive</td>\n",
       "      <td>114262.43</td>\n",
       "      <td>50.01</td>\n",
       "    </tr>\n",
       "    <tr>\n",
       "      <th>7</th>\n",
       "      <td>Lawyer</td>\n",
       "      <td>110547.01</td>\n",
       "      <td>49.11</td>\n",
       "    </tr>\n",
       "    <tr>\n",
       "      <th>2</th>\n",
       "      <td>Engineer</td>\n",
       "      <td>111592.04</td>\n",
       "      <td>48.80</td>\n",
       "    </tr>\n",
       "    <tr>\n",
       "      <th>8</th>\n",
       "      <td>Marketing</td>\n",
       "      <td>108422.55</td>\n",
       "      <td>48.59</td>\n",
       "    </tr>\n",
       "    <tr>\n",
       "      <th>6</th>\n",
       "      <td>Homemaker</td>\n",
       "      <td>108758.62</td>\n",
       "      <td>46.38</td>\n",
       "    </tr>\n",
       "  </tbody>\n",
       "</table>\n",
       "</div>"
      ],
      "text/plain": [
       "      profession  annual_income  spending_score\n",
       "3  Entertainment      110650.33           52.94\n",
       "0         Artist      108946.31           52.38\n",
       "1         Doctor      111497.88           51.66\n",
       "5     Healthcare      112651.90           50.43\n",
       "4      Executive      114262.43           50.01\n",
       "7         Lawyer      110547.01           49.11\n",
       "2       Engineer      111592.04           48.80\n",
       "8      Marketing      108422.55           48.59\n",
       "6      Homemaker      108758.62           46.38"
      ]
     },
     "execution_count": 157,
     "metadata": {},
     "output_type": "execute_result"
    }
   ],
   "source": [
    "###############################Question 7######################################\n",
    "#what profession are having mean income and mean spending score?\n",
    "prof_mean_inc = round(df.groupby(\"Profession\")[[\"Annual Income ($)\", \"Spending_score\"]].mean(),2).reset_index()\n",
    "prof_mean_inc.columns = [\"profession\", \"annual_income\", \"spending_score\"]\n",
    "prof_mean_inc = prof_mean_inc.sort_values(\"spending_score\", ascending = False)\n",
    "prof_mean_inc"
   ]
  },
  {
   "cell_type": "code",
   "execution_count": 158,
   "id": "09d2eff5",
   "metadata": {},
   "outputs": [
    {
     "data": {
      "application/vnd.plotly.v1+json": {
       "config": {
        "plotlyServerURL": "https://plot.ly"
       },
       "data": [
        {
         "alignmentgroup": "True",
         "hovertemplate": "profession=%{x}<br>spending_score=%{y}<br>annual_income=%{marker.color}<extra></extra>",
         "legendgroup": "",
         "marker": {
          "color": [
           110650.33,
           108946.31,
           111497.88,
           112651.9,
           114262.43,
           110547.01,
           111592.04,
           108422.55,
           108758.62
          ],
          "coloraxis": "coloraxis",
          "pattern": {
           "shape": ""
          }
         },
         "name": "",
         "offsetgroup": "",
         "orientation": "v",
         "showlegend": false,
         "text": [
          110650.33,
          108946.31,
          111497.88,
          112651.9,
          114262.43,
          110547.01,
          111592.04,
          108422.55,
          108758.62
         ],
         "textposition": "outside",
         "type": "bar",
         "x": [
          "Entertainment",
          "Artist",
          "Doctor",
          "Healthcare",
          "Executive",
          "Lawyer",
          "Engineer",
          "Marketing",
          "Homemaker"
         ],
         "xaxis": "x",
         "y": [
          52.94,
          52.38,
          51.66,
          50.43,
          50.01,
          49.11,
          48.8,
          48.59,
          46.38
         ],
         "yaxis": "y"
        }
       ],
       "layout": {
        "barmode": "relative",
        "coloraxis": {
         "colorbar": {
          "title": {
           "text": "annual_income"
          }
         },
         "colorscale": [
          [
           0,
           "#7a0402"
          ],
          [
           0.07142857142857142,
           "#b11901"
          ],
          [
           0.14285714285714285,
           "#d93806"
          ],
          [
           0.21428571428571427,
           "#f36315"
          ],
          [
           0.2857142857142857,
           "#fe9b2d"
          ],
          [
           0.35714285714285715,
           "#f3c63a"
          ],
          [
           0.42857142857142855,
           "#d1e834"
          ],
          [
           0.5,
           "#a4fc3b"
          ],
          [
           0.5714285714285714,
           "#61fc6c"
          ],
          [
           0.6428571428571429,
           "#24eca6"
          ],
          [
           0.7142857142857143,
           "#1bcfd4"
          ],
          [
           0.7857142857142857,
           "#39a2fc"
          ],
          [
           0.8571428571428571,
           "#4675ed"
          ],
          [
           0.9285714285714286,
           "#4145ab"
          ],
          [
           1,
           "#30123b"
          ]
         ]
        },
        "legend": {
         "tracegroupgap": 0
        },
        "margin": {
         "t": 60
        },
        "template": {
         "data": {
          "bar": [
           {
            "error_x": {
             "color": "#2a3f5f"
            },
            "error_y": {
             "color": "#2a3f5f"
            },
            "marker": {
             "line": {
              "color": "#E5ECF6",
              "width": 0.5
             },
             "pattern": {
              "fillmode": "overlay",
              "size": 10,
              "solidity": 0.2
             }
            },
            "type": "bar"
           }
          ],
          "barpolar": [
           {
            "marker": {
             "line": {
              "color": "#E5ECF6",
              "width": 0.5
             },
             "pattern": {
              "fillmode": "overlay",
              "size": 10,
              "solidity": 0.2
             }
            },
            "type": "barpolar"
           }
          ],
          "carpet": [
           {
            "aaxis": {
             "endlinecolor": "#2a3f5f",
             "gridcolor": "white",
             "linecolor": "white",
             "minorgridcolor": "white",
             "startlinecolor": "#2a3f5f"
            },
            "baxis": {
             "endlinecolor": "#2a3f5f",
             "gridcolor": "white",
             "linecolor": "white",
             "minorgridcolor": "white",
             "startlinecolor": "#2a3f5f"
            },
            "type": "carpet"
           }
          ],
          "choropleth": [
           {
            "colorbar": {
             "outlinewidth": 0,
             "ticks": ""
            },
            "type": "choropleth"
           }
          ],
          "contour": [
           {
            "colorbar": {
             "outlinewidth": 0,
             "ticks": ""
            },
            "colorscale": [
             [
              0,
              "#0d0887"
             ],
             [
              0.1111111111111111,
              "#46039f"
             ],
             [
              0.2222222222222222,
              "#7201a8"
             ],
             [
              0.3333333333333333,
              "#9c179e"
             ],
             [
              0.4444444444444444,
              "#bd3786"
             ],
             [
              0.5555555555555556,
              "#d8576b"
             ],
             [
              0.6666666666666666,
              "#ed7953"
             ],
             [
              0.7777777777777778,
              "#fb9f3a"
             ],
             [
              0.8888888888888888,
              "#fdca26"
             ],
             [
              1,
              "#f0f921"
             ]
            ],
            "type": "contour"
           }
          ],
          "contourcarpet": [
           {
            "colorbar": {
             "outlinewidth": 0,
             "ticks": ""
            },
            "type": "contourcarpet"
           }
          ],
          "heatmap": [
           {
            "colorbar": {
             "outlinewidth": 0,
             "ticks": ""
            },
            "colorscale": [
             [
              0,
              "#0d0887"
             ],
             [
              0.1111111111111111,
              "#46039f"
             ],
             [
              0.2222222222222222,
              "#7201a8"
             ],
             [
              0.3333333333333333,
              "#9c179e"
             ],
             [
              0.4444444444444444,
              "#bd3786"
             ],
             [
              0.5555555555555556,
              "#d8576b"
             ],
             [
              0.6666666666666666,
              "#ed7953"
             ],
             [
              0.7777777777777778,
              "#fb9f3a"
             ],
             [
              0.8888888888888888,
              "#fdca26"
             ],
             [
              1,
              "#f0f921"
             ]
            ],
            "type": "heatmap"
           }
          ],
          "heatmapgl": [
           {
            "colorbar": {
             "outlinewidth": 0,
             "ticks": ""
            },
            "colorscale": [
             [
              0,
              "#0d0887"
             ],
             [
              0.1111111111111111,
              "#46039f"
             ],
             [
              0.2222222222222222,
              "#7201a8"
             ],
             [
              0.3333333333333333,
              "#9c179e"
             ],
             [
              0.4444444444444444,
              "#bd3786"
             ],
             [
              0.5555555555555556,
              "#d8576b"
             ],
             [
              0.6666666666666666,
              "#ed7953"
             ],
             [
              0.7777777777777778,
              "#fb9f3a"
             ],
             [
              0.8888888888888888,
              "#fdca26"
             ],
             [
              1,
              "#f0f921"
             ]
            ],
            "type": "heatmapgl"
           }
          ],
          "histogram": [
           {
            "marker": {
             "pattern": {
              "fillmode": "overlay",
              "size": 10,
              "solidity": 0.2
             }
            },
            "type": "histogram"
           }
          ],
          "histogram2d": [
           {
            "colorbar": {
             "outlinewidth": 0,
             "ticks": ""
            },
            "colorscale": [
             [
              0,
              "#0d0887"
             ],
             [
              0.1111111111111111,
              "#46039f"
             ],
             [
              0.2222222222222222,
              "#7201a8"
             ],
             [
              0.3333333333333333,
              "#9c179e"
             ],
             [
              0.4444444444444444,
              "#bd3786"
             ],
             [
              0.5555555555555556,
              "#d8576b"
             ],
             [
              0.6666666666666666,
              "#ed7953"
             ],
             [
              0.7777777777777778,
              "#fb9f3a"
             ],
             [
              0.8888888888888888,
              "#fdca26"
             ],
             [
              1,
              "#f0f921"
             ]
            ],
            "type": "histogram2d"
           }
          ],
          "histogram2dcontour": [
           {
            "colorbar": {
             "outlinewidth": 0,
             "ticks": ""
            },
            "colorscale": [
             [
              0,
              "#0d0887"
             ],
             [
              0.1111111111111111,
              "#46039f"
             ],
             [
              0.2222222222222222,
              "#7201a8"
             ],
             [
              0.3333333333333333,
              "#9c179e"
             ],
             [
              0.4444444444444444,
              "#bd3786"
             ],
             [
              0.5555555555555556,
              "#d8576b"
             ],
             [
              0.6666666666666666,
              "#ed7953"
             ],
             [
              0.7777777777777778,
              "#fb9f3a"
             ],
             [
              0.8888888888888888,
              "#fdca26"
             ],
             [
              1,
              "#f0f921"
             ]
            ],
            "type": "histogram2dcontour"
           }
          ],
          "mesh3d": [
           {
            "colorbar": {
             "outlinewidth": 0,
             "ticks": ""
            },
            "type": "mesh3d"
           }
          ],
          "parcoords": [
           {
            "line": {
             "colorbar": {
              "outlinewidth": 0,
              "ticks": ""
             }
            },
            "type": "parcoords"
           }
          ],
          "pie": [
           {
            "automargin": true,
            "type": "pie"
           }
          ],
          "scatter": [
           {
            "marker": {
             "colorbar": {
              "outlinewidth": 0,
              "ticks": ""
             }
            },
            "type": "scatter"
           }
          ],
          "scatter3d": [
           {
            "line": {
             "colorbar": {
              "outlinewidth": 0,
              "ticks": ""
             }
            },
            "marker": {
             "colorbar": {
              "outlinewidth": 0,
              "ticks": ""
             }
            },
            "type": "scatter3d"
           }
          ],
          "scattercarpet": [
           {
            "marker": {
             "colorbar": {
              "outlinewidth": 0,
              "ticks": ""
             }
            },
            "type": "scattercarpet"
           }
          ],
          "scattergeo": [
           {
            "marker": {
             "colorbar": {
              "outlinewidth": 0,
              "ticks": ""
             }
            },
            "type": "scattergeo"
           }
          ],
          "scattergl": [
           {
            "marker": {
             "colorbar": {
              "outlinewidth": 0,
              "ticks": ""
             }
            },
            "type": "scattergl"
           }
          ],
          "scattermapbox": [
           {
            "marker": {
             "colorbar": {
              "outlinewidth": 0,
              "ticks": ""
             }
            },
            "type": "scattermapbox"
           }
          ],
          "scatterpolar": [
           {
            "marker": {
             "colorbar": {
              "outlinewidth": 0,
              "ticks": ""
             }
            },
            "type": "scatterpolar"
           }
          ],
          "scatterpolargl": [
           {
            "marker": {
             "colorbar": {
              "outlinewidth": 0,
              "ticks": ""
             }
            },
            "type": "scatterpolargl"
           }
          ],
          "scatterternary": [
           {
            "marker": {
             "colorbar": {
              "outlinewidth": 0,
              "ticks": ""
             }
            },
            "type": "scatterternary"
           }
          ],
          "surface": [
           {
            "colorbar": {
             "outlinewidth": 0,
             "ticks": ""
            },
            "colorscale": [
             [
              0,
              "#0d0887"
             ],
             [
              0.1111111111111111,
              "#46039f"
             ],
             [
              0.2222222222222222,
              "#7201a8"
             ],
             [
              0.3333333333333333,
              "#9c179e"
             ],
             [
              0.4444444444444444,
              "#bd3786"
             ],
             [
              0.5555555555555556,
              "#d8576b"
             ],
             [
              0.6666666666666666,
              "#ed7953"
             ],
             [
              0.7777777777777778,
              "#fb9f3a"
             ],
             [
              0.8888888888888888,
              "#fdca26"
             ],
             [
              1,
              "#f0f921"
             ]
            ],
            "type": "surface"
           }
          ],
          "table": [
           {
            "cells": {
             "fill": {
              "color": "#EBF0F8"
             },
             "line": {
              "color": "white"
             }
            },
            "header": {
             "fill": {
              "color": "#C8D4E3"
             },
             "line": {
              "color": "white"
             }
            },
            "type": "table"
           }
          ]
         },
         "layout": {
          "annotationdefaults": {
           "arrowcolor": "#2a3f5f",
           "arrowhead": 0,
           "arrowwidth": 1
          },
          "autotypenumbers": "strict",
          "coloraxis": {
           "colorbar": {
            "outlinewidth": 0,
            "ticks": ""
           }
          },
          "colorscale": {
           "diverging": [
            [
             0,
             "#8e0152"
            ],
            [
             0.1,
             "#c51b7d"
            ],
            [
             0.2,
             "#de77ae"
            ],
            [
             0.3,
             "#f1b6da"
            ],
            [
             0.4,
             "#fde0ef"
            ],
            [
             0.5,
             "#f7f7f7"
            ],
            [
             0.6,
             "#e6f5d0"
            ],
            [
             0.7,
             "#b8e186"
            ],
            [
             0.8,
             "#7fbc41"
            ],
            [
             0.9,
             "#4d9221"
            ],
            [
             1,
             "#276419"
            ]
           ],
           "sequential": [
            [
             0,
             "#0d0887"
            ],
            [
             0.1111111111111111,
             "#46039f"
            ],
            [
             0.2222222222222222,
             "#7201a8"
            ],
            [
             0.3333333333333333,
             "#9c179e"
            ],
            [
             0.4444444444444444,
             "#bd3786"
            ],
            [
             0.5555555555555556,
             "#d8576b"
            ],
            [
             0.6666666666666666,
             "#ed7953"
            ],
            [
             0.7777777777777778,
             "#fb9f3a"
            ],
            [
             0.8888888888888888,
             "#fdca26"
            ],
            [
             1,
             "#f0f921"
            ]
           ],
           "sequentialminus": [
            [
             0,
             "#0d0887"
            ],
            [
             0.1111111111111111,
             "#46039f"
            ],
            [
             0.2222222222222222,
             "#7201a8"
            ],
            [
             0.3333333333333333,
             "#9c179e"
            ],
            [
             0.4444444444444444,
             "#bd3786"
            ],
            [
             0.5555555555555556,
             "#d8576b"
            ],
            [
             0.6666666666666666,
             "#ed7953"
            ],
            [
             0.7777777777777778,
             "#fb9f3a"
            ],
            [
             0.8888888888888888,
             "#fdca26"
            ],
            [
             1,
             "#f0f921"
            ]
           ]
          },
          "colorway": [
           "#636efa",
           "#EF553B",
           "#00cc96",
           "#ab63fa",
           "#FFA15A",
           "#19d3f3",
           "#FF6692",
           "#B6E880",
           "#FF97FF",
           "#FECB52"
          ],
          "font": {
           "color": "#2a3f5f"
          },
          "geo": {
           "bgcolor": "white",
           "lakecolor": "white",
           "landcolor": "#E5ECF6",
           "showlakes": true,
           "showland": true,
           "subunitcolor": "white"
          },
          "hoverlabel": {
           "align": "left"
          },
          "hovermode": "closest",
          "mapbox": {
           "style": "light"
          },
          "paper_bgcolor": "white",
          "plot_bgcolor": "#E5ECF6",
          "polar": {
           "angularaxis": {
            "gridcolor": "white",
            "linecolor": "white",
            "ticks": ""
           },
           "bgcolor": "#E5ECF6",
           "radialaxis": {
            "gridcolor": "white",
            "linecolor": "white",
            "ticks": ""
           }
          },
          "scene": {
           "xaxis": {
            "backgroundcolor": "#E5ECF6",
            "gridcolor": "white",
            "gridwidth": 2,
            "linecolor": "white",
            "showbackground": true,
            "ticks": "",
            "zerolinecolor": "white"
           },
           "yaxis": {
            "backgroundcolor": "#E5ECF6",
            "gridcolor": "white",
            "gridwidth": 2,
            "linecolor": "white",
            "showbackground": true,
            "ticks": "",
            "zerolinecolor": "white"
           },
           "zaxis": {
            "backgroundcolor": "#E5ECF6",
            "gridcolor": "white",
            "gridwidth": 2,
            "linecolor": "white",
            "showbackground": true,
            "ticks": "",
            "zerolinecolor": "white"
           }
          },
          "shapedefaults": {
           "line": {
            "color": "#2a3f5f"
           }
          },
          "ternary": {
           "aaxis": {
            "gridcolor": "white",
            "linecolor": "white",
            "ticks": ""
           },
           "baxis": {
            "gridcolor": "white",
            "linecolor": "white",
            "ticks": ""
           },
           "bgcolor": "#E5ECF6",
           "caxis": {
            "gridcolor": "white",
            "linecolor": "white",
            "ticks": ""
           }
          },
          "title": {
           "x": 0.05
          },
          "xaxis": {
           "automargin": true,
           "gridcolor": "white",
           "linecolor": "white",
           "ticks": "",
           "title": {
            "standoff": 15
           },
           "zerolinecolor": "white",
           "zerolinewidth": 2
          },
          "yaxis": {
           "automargin": true,
           "gridcolor": "white",
           "linecolor": "white",
           "ticks": "",
           "title": {
            "standoff": 15
           },
           "zerolinecolor": "white",
           "zerolinewidth": 2
          }
         }
        },
        "title": {
         "text": "Comparing Profession with Annual Income and Spending Score(1-100)"
        },
        "width": 800,
        "xaxis": {
         "anchor": "y",
         "domain": [
          0,
          1
         ],
         "title": {
          "text": "profession"
         }
        },
        "yaxis": {
         "anchor": "x",
         "domain": [
          0,
          1
         ],
         "title": {
          "text": "spending_score"
         }
        }
       }
      },
      "text/html": [
       "<div>                            <div id=\"46549f23-4ad6-41ac-9ea1-a848a9c9bcbc\" class=\"plotly-graph-div\" style=\"height:525px; width:800px;\"></div>            <script type=\"text/javascript\">                require([\"plotly\"], function(Plotly) {                    window.PLOTLYENV=window.PLOTLYENV || {};                                    if (document.getElementById(\"46549f23-4ad6-41ac-9ea1-a848a9c9bcbc\")) {                    Plotly.newPlot(                        \"46549f23-4ad6-41ac-9ea1-a848a9c9bcbc\",                        [{\"alignmentgroup\":\"True\",\"hovertemplate\":\"profession=%{x}<br>spending_score=%{y}<br>annual_income=%{marker.color}<extra></extra>\",\"legendgroup\":\"\",\"marker\":{\"color\":[110650.33,108946.31,111497.88,112651.9,114262.43,110547.01,111592.04,108422.55,108758.62],\"coloraxis\":\"coloraxis\",\"pattern\":{\"shape\":\"\"}},\"name\":\"\",\"offsetgroup\":\"\",\"orientation\":\"v\",\"showlegend\":false,\"text\":[110650.33,108946.31,111497.88,112651.9,114262.43,110547.01,111592.04,108422.55,108758.62],\"textposition\":\"outside\",\"x\":[\"Entertainment\",\"Artist\",\"Doctor\",\"Healthcare\",\"Executive\",\"Lawyer\",\"Engineer\",\"Marketing\",\"Homemaker\"],\"xaxis\":\"x\",\"y\":[52.94,52.38,51.66,50.43,50.01,49.11,48.8,48.59,46.38],\"yaxis\":\"y\",\"type\":\"bar\"}],                        {\"template\":{\"data\":{\"bar\":[{\"error_x\":{\"color\":\"#2a3f5f\"},\"error_y\":{\"color\":\"#2a3f5f\"},\"marker\":{\"line\":{\"color\":\"#E5ECF6\",\"width\":0.5},\"pattern\":{\"fillmode\":\"overlay\",\"size\":10,\"solidity\":0.2}},\"type\":\"bar\"}],\"barpolar\":[{\"marker\":{\"line\":{\"color\":\"#E5ECF6\",\"width\":0.5},\"pattern\":{\"fillmode\":\"overlay\",\"size\":10,\"solidity\":0.2}},\"type\":\"barpolar\"}],\"carpet\":[{\"aaxis\":{\"endlinecolor\":\"#2a3f5f\",\"gridcolor\":\"white\",\"linecolor\":\"white\",\"minorgridcolor\":\"white\",\"startlinecolor\":\"#2a3f5f\"},\"baxis\":{\"endlinecolor\":\"#2a3f5f\",\"gridcolor\":\"white\",\"linecolor\":\"white\",\"minorgridcolor\":\"white\",\"startlinecolor\":\"#2a3f5f\"},\"type\":\"carpet\"}],\"choropleth\":[{\"colorbar\":{\"outlinewidth\":0,\"ticks\":\"\"},\"type\":\"choropleth\"}],\"contour\":[{\"colorbar\":{\"outlinewidth\":0,\"ticks\":\"\"},\"colorscale\":[[0.0,\"#0d0887\"],[0.1111111111111111,\"#46039f\"],[0.2222222222222222,\"#7201a8\"],[0.3333333333333333,\"#9c179e\"],[0.4444444444444444,\"#bd3786\"],[0.5555555555555556,\"#d8576b\"],[0.6666666666666666,\"#ed7953\"],[0.7777777777777778,\"#fb9f3a\"],[0.8888888888888888,\"#fdca26\"],[1.0,\"#f0f921\"]],\"type\":\"contour\"}],\"contourcarpet\":[{\"colorbar\":{\"outlinewidth\":0,\"ticks\":\"\"},\"type\":\"contourcarpet\"}],\"heatmap\":[{\"colorbar\":{\"outlinewidth\":0,\"ticks\":\"\"},\"colorscale\":[[0.0,\"#0d0887\"],[0.1111111111111111,\"#46039f\"],[0.2222222222222222,\"#7201a8\"],[0.3333333333333333,\"#9c179e\"],[0.4444444444444444,\"#bd3786\"],[0.5555555555555556,\"#d8576b\"],[0.6666666666666666,\"#ed7953\"],[0.7777777777777778,\"#fb9f3a\"],[0.8888888888888888,\"#fdca26\"],[1.0,\"#f0f921\"]],\"type\":\"heatmap\"}],\"heatmapgl\":[{\"colorbar\":{\"outlinewidth\":0,\"ticks\":\"\"},\"colorscale\":[[0.0,\"#0d0887\"],[0.1111111111111111,\"#46039f\"],[0.2222222222222222,\"#7201a8\"],[0.3333333333333333,\"#9c179e\"],[0.4444444444444444,\"#bd3786\"],[0.5555555555555556,\"#d8576b\"],[0.6666666666666666,\"#ed7953\"],[0.7777777777777778,\"#fb9f3a\"],[0.8888888888888888,\"#fdca26\"],[1.0,\"#f0f921\"]],\"type\":\"heatmapgl\"}],\"histogram\":[{\"marker\":{\"pattern\":{\"fillmode\":\"overlay\",\"size\":10,\"solidity\":0.2}},\"type\":\"histogram\"}],\"histogram2d\":[{\"colorbar\":{\"outlinewidth\":0,\"ticks\":\"\"},\"colorscale\":[[0.0,\"#0d0887\"],[0.1111111111111111,\"#46039f\"],[0.2222222222222222,\"#7201a8\"],[0.3333333333333333,\"#9c179e\"],[0.4444444444444444,\"#bd3786\"],[0.5555555555555556,\"#d8576b\"],[0.6666666666666666,\"#ed7953\"],[0.7777777777777778,\"#fb9f3a\"],[0.8888888888888888,\"#fdca26\"],[1.0,\"#f0f921\"]],\"type\":\"histogram2d\"}],\"histogram2dcontour\":[{\"colorbar\":{\"outlinewidth\":0,\"ticks\":\"\"},\"colorscale\":[[0.0,\"#0d0887\"],[0.1111111111111111,\"#46039f\"],[0.2222222222222222,\"#7201a8\"],[0.3333333333333333,\"#9c179e\"],[0.4444444444444444,\"#bd3786\"],[0.5555555555555556,\"#d8576b\"],[0.6666666666666666,\"#ed7953\"],[0.7777777777777778,\"#fb9f3a\"],[0.8888888888888888,\"#fdca26\"],[1.0,\"#f0f921\"]],\"type\":\"histogram2dcontour\"}],\"mesh3d\":[{\"colorbar\":{\"outlinewidth\":0,\"ticks\":\"\"},\"type\":\"mesh3d\"}],\"parcoords\":[{\"line\":{\"colorbar\":{\"outlinewidth\":0,\"ticks\":\"\"}},\"type\":\"parcoords\"}],\"pie\":[{\"automargin\":true,\"type\":\"pie\"}],\"scatter\":[{\"marker\":{\"colorbar\":{\"outlinewidth\":0,\"ticks\":\"\"}},\"type\":\"scatter\"}],\"scatter3d\":[{\"line\":{\"colorbar\":{\"outlinewidth\":0,\"ticks\":\"\"}},\"marker\":{\"colorbar\":{\"outlinewidth\":0,\"ticks\":\"\"}},\"type\":\"scatter3d\"}],\"scattercarpet\":[{\"marker\":{\"colorbar\":{\"outlinewidth\":0,\"ticks\":\"\"}},\"type\":\"scattercarpet\"}],\"scattergeo\":[{\"marker\":{\"colorbar\":{\"outlinewidth\":0,\"ticks\":\"\"}},\"type\":\"scattergeo\"}],\"scattergl\":[{\"marker\":{\"colorbar\":{\"outlinewidth\":0,\"ticks\":\"\"}},\"type\":\"scattergl\"}],\"scattermapbox\":[{\"marker\":{\"colorbar\":{\"outlinewidth\":0,\"ticks\":\"\"}},\"type\":\"scattermapbox\"}],\"scatterpolar\":[{\"marker\":{\"colorbar\":{\"outlinewidth\":0,\"ticks\":\"\"}},\"type\":\"scatterpolar\"}],\"scatterpolargl\":[{\"marker\":{\"colorbar\":{\"outlinewidth\":0,\"ticks\":\"\"}},\"type\":\"scatterpolargl\"}],\"scatterternary\":[{\"marker\":{\"colorbar\":{\"outlinewidth\":0,\"ticks\":\"\"}},\"type\":\"scatterternary\"}],\"surface\":[{\"colorbar\":{\"outlinewidth\":0,\"ticks\":\"\"},\"colorscale\":[[0.0,\"#0d0887\"],[0.1111111111111111,\"#46039f\"],[0.2222222222222222,\"#7201a8\"],[0.3333333333333333,\"#9c179e\"],[0.4444444444444444,\"#bd3786\"],[0.5555555555555556,\"#d8576b\"],[0.6666666666666666,\"#ed7953\"],[0.7777777777777778,\"#fb9f3a\"],[0.8888888888888888,\"#fdca26\"],[1.0,\"#f0f921\"]],\"type\":\"surface\"}],\"table\":[{\"cells\":{\"fill\":{\"color\":\"#EBF0F8\"},\"line\":{\"color\":\"white\"}},\"header\":{\"fill\":{\"color\":\"#C8D4E3\"},\"line\":{\"color\":\"white\"}},\"type\":\"table\"}]},\"layout\":{\"annotationdefaults\":{\"arrowcolor\":\"#2a3f5f\",\"arrowhead\":0,\"arrowwidth\":1},\"autotypenumbers\":\"strict\",\"coloraxis\":{\"colorbar\":{\"outlinewidth\":0,\"ticks\":\"\"}},\"colorscale\":{\"diverging\":[[0,\"#8e0152\"],[0.1,\"#c51b7d\"],[0.2,\"#de77ae\"],[0.3,\"#f1b6da\"],[0.4,\"#fde0ef\"],[0.5,\"#f7f7f7\"],[0.6,\"#e6f5d0\"],[0.7,\"#b8e186\"],[0.8,\"#7fbc41\"],[0.9,\"#4d9221\"],[1,\"#276419\"]],\"sequential\":[[0.0,\"#0d0887\"],[0.1111111111111111,\"#46039f\"],[0.2222222222222222,\"#7201a8\"],[0.3333333333333333,\"#9c179e\"],[0.4444444444444444,\"#bd3786\"],[0.5555555555555556,\"#d8576b\"],[0.6666666666666666,\"#ed7953\"],[0.7777777777777778,\"#fb9f3a\"],[0.8888888888888888,\"#fdca26\"],[1.0,\"#f0f921\"]],\"sequentialminus\":[[0.0,\"#0d0887\"],[0.1111111111111111,\"#46039f\"],[0.2222222222222222,\"#7201a8\"],[0.3333333333333333,\"#9c179e\"],[0.4444444444444444,\"#bd3786\"],[0.5555555555555556,\"#d8576b\"],[0.6666666666666666,\"#ed7953\"],[0.7777777777777778,\"#fb9f3a\"],[0.8888888888888888,\"#fdca26\"],[1.0,\"#f0f921\"]]},\"colorway\":[\"#636efa\",\"#EF553B\",\"#00cc96\",\"#ab63fa\",\"#FFA15A\",\"#19d3f3\",\"#FF6692\",\"#B6E880\",\"#FF97FF\",\"#FECB52\"],\"font\":{\"color\":\"#2a3f5f\"},\"geo\":{\"bgcolor\":\"white\",\"lakecolor\":\"white\",\"landcolor\":\"#E5ECF6\",\"showlakes\":true,\"showland\":true,\"subunitcolor\":\"white\"},\"hoverlabel\":{\"align\":\"left\"},\"hovermode\":\"closest\",\"mapbox\":{\"style\":\"light\"},\"paper_bgcolor\":\"white\",\"plot_bgcolor\":\"#E5ECF6\",\"polar\":{\"angularaxis\":{\"gridcolor\":\"white\",\"linecolor\":\"white\",\"ticks\":\"\"},\"bgcolor\":\"#E5ECF6\",\"radialaxis\":{\"gridcolor\":\"white\",\"linecolor\":\"white\",\"ticks\":\"\"}},\"scene\":{\"xaxis\":{\"backgroundcolor\":\"#E5ECF6\",\"gridcolor\":\"white\",\"gridwidth\":2,\"linecolor\":\"white\",\"showbackground\":true,\"ticks\":\"\",\"zerolinecolor\":\"white\"},\"yaxis\":{\"backgroundcolor\":\"#E5ECF6\",\"gridcolor\":\"white\",\"gridwidth\":2,\"linecolor\":\"white\",\"showbackground\":true,\"ticks\":\"\",\"zerolinecolor\":\"white\"},\"zaxis\":{\"backgroundcolor\":\"#E5ECF6\",\"gridcolor\":\"white\",\"gridwidth\":2,\"linecolor\":\"white\",\"showbackground\":true,\"ticks\":\"\",\"zerolinecolor\":\"white\"}},\"shapedefaults\":{\"line\":{\"color\":\"#2a3f5f\"}},\"ternary\":{\"aaxis\":{\"gridcolor\":\"white\",\"linecolor\":\"white\",\"ticks\":\"\"},\"baxis\":{\"gridcolor\":\"white\",\"linecolor\":\"white\",\"ticks\":\"\"},\"bgcolor\":\"#E5ECF6\",\"caxis\":{\"gridcolor\":\"white\",\"linecolor\":\"white\",\"ticks\":\"\"}},\"title\":{\"x\":0.05},\"xaxis\":{\"automargin\":true,\"gridcolor\":\"white\",\"linecolor\":\"white\",\"ticks\":\"\",\"title\":{\"standoff\":15},\"zerolinecolor\":\"white\",\"zerolinewidth\":2},\"yaxis\":{\"automargin\":true,\"gridcolor\":\"white\",\"linecolor\":\"white\",\"ticks\":\"\",\"title\":{\"standoff\":15},\"zerolinecolor\":\"white\",\"zerolinewidth\":2}}},\"xaxis\":{\"anchor\":\"y\",\"domain\":[0.0,1.0],\"title\":{\"text\":\"profession\"}},\"yaxis\":{\"anchor\":\"x\",\"domain\":[0.0,1.0],\"title\":{\"text\":\"spending_score\"}},\"coloraxis\":{\"colorbar\":{\"title\":{\"text\":\"annual_income\"}},\"colorscale\":[[0.0,\"#7a0402\"],[0.07142857142857142,\"#b11901\"],[0.14285714285714285,\"#d93806\"],[0.21428571428571427,\"#f36315\"],[0.2857142857142857,\"#fe9b2d\"],[0.35714285714285715,\"#f3c63a\"],[0.42857142857142855,\"#d1e834\"],[0.5,\"#a4fc3b\"],[0.5714285714285714,\"#61fc6c\"],[0.6428571428571429,\"#24eca6\"],[0.7142857142857143,\"#1bcfd4\"],[0.7857142857142857,\"#39a2fc\"],[0.8571428571428571,\"#4675ed\"],[0.9285714285714286,\"#4145ab\"],[1.0,\"#30123b\"]]},\"legend\":{\"tracegroupgap\":0},\"margin\":{\"t\":60},\"barmode\":\"relative\",\"width\":800,\"title\":{\"text\":\"Comparing Profession with Annual Income and Spending Score(1-100)\"}},                        {\"responsive\": true}                    ).then(function(){\n",
       "                            \n",
       "var gd = document.getElementById('46549f23-4ad6-41ac-9ea1-a848a9c9bcbc');\n",
       "var x = new MutationObserver(function (mutations, observer) {{\n",
       "        var display = window.getComputedStyle(gd).display;\n",
       "        if (!display || display === 'none') {{\n",
       "            console.log([gd, 'removed!']);\n",
       "            Plotly.purge(gd);\n",
       "            observer.disconnect();\n",
       "        }}\n",
       "}});\n",
       "\n",
       "// Listen for the removal of the full notebook cells\n",
       "var notebookContainer = gd.closest('#notebook-container');\n",
       "if (notebookContainer) {{\n",
       "    x.observe(notebookContainer, {childList: true});\n",
       "}}\n",
       "\n",
       "// Listen for the clearing of the current output cell\n",
       "var outputEl = gd.closest('.output');\n",
       "if (outputEl) {{\n",
       "    x.observe(outputEl, {childList: true});\n",
       "}}\n",
       "\n",
       "                        })                };                });            </script>        </div>"
      ]
     },
     "metadata": {},
     "output_type": "display_data"
    }
   ],
   "source": [
    "#comparing the profession their mean income and spending score through bar\n",
    "px.bar(prof_mean_inc, x = \"profession\", y = \"spending_score\", text = \"annual_income\", color = \"annual_income\",\n",
    "      width = 800, color_continuous_scale = \"turbo_r\").update_layout(title = \"Comparing Profession with Annual Income and Spending Score(1-100)\").update_traces(\n",
    "textposition = \"outside\")"
   ]
  },
  {
   "cell_type": "code",
   "execution_count": null,
   "id": "4c1b7450",
   "metadata": {},
   "outputs": [],
   "source": []
  }
 ],
 "metadata": {
  "kernelspec": {
   "display_name": "Python 3 (ipykernel)",
   "language": "python",
   "name": "python3"
  },
  "language_info": {
   "codemirror_mode": {
    "name": "ipython",
    "version": 3
   },
   "file_extension": ".py",
   "mimetype": "text/x-python",
   "name": "python",
   "nbconvert_exporter": "python",
   "pygments_lexer": "ipython3",
   "version": "3.9.12"
  }
 },
 "nbformat": 4,
 "nbformat_minor": 5
}
